{
 "cells": [
  {
   "cell_type": "markdown",
   "id": "46b2c9b1",
   "metadata": {},
   "source": [
    "<h1 style=\"color: #001a79;\">Topic 1 - Statistics</h1>\n",
    "\n",
    "<h3 style=\"color: #001a79;\">Exercise 1</h3>\n",
    "\n",
    "<hr style=\"border-top: 1px solid #001a79;\" />\n",
    "\n",
    "The exercise in 01-statistics gives about a 1.5% chance of randomly selecting the correct cups. Calculate the minimum number of cups of tea required to ensure the probability of randomly selecting the correct cups is less than or equal to 1%."
   ]
  },
  {
   "cell_type": "markdown",
   "id": "4559866a",
   "metadata": {},
   "source": [
    "The general formula is: $${n \\choose r} = {n! \\over r!(n-r)!}$$\n",
    "\n",
    "where n is the number of things to choose from, and we choose r of them. \n",
    "\n",
    "https://www.mathsisfun.com/combinatorics/combinations-permutations.html\n",
    "\n",
    "Below shows the calculation for the number of ways of selecting 4 cups from 8.\n",
    "\n",
    "$${8 \\choose 4} = {8! \\over 4!(8-4)!} = {8! \\over (4!)(4!)} = 70$$"
   ]
  },
  {
   "cell_type": "code",
   "execution_count": 6,
   "id": "032ea9a8",
   "metadata": {},
   "outputs": [
    {
     "name": "stdout",
     "output_type": "stream",
     "text": [
      "Number of ways: 70\n"
     ]
    }
   ],
   "source": [
    "# The following is adapted from https://stackoverflow.com/a/4941932\n",
    "import math \n",
    "res1 = math.comb(8, 4)\n",
    "print(\"Number of ways:\", res1)"
   ]
  },
  {
   "cell_type": "markdown",
   "id": "5bfd9ece",
   "metadata": {},
   "source": [
    "Therefore, the probability of randomly selecting 4 correct cups from 8 if the lady were simply guessing is 1.4%.\n",
    "\n",
    "We want to calculate the minimum number of cups of tea required to ensure the probability of randomly selecting the correct cups is less than or equal to 1%. \n",
    "\n",
    "To do this we can use Pascal's Triangle. "
   ]
  },
  {
   "cell_type": "markdown",
   "id": "b187736d",
   "metadata": {},
   "source": [
    "The values of the triangle are the values for n choose r, where the rows are n from 0 to 10, and from left to right of each row is r where 0 $\\le$ r $\\le$ n. \n",
    "\n",
    "$${0 \\choose 0}$$\n",
    "$${1 \\choose 0} {1 \\choose 1}$$\n",
    "$${2 \\choose 0} {2 \\choose 1} {2 \\choose 2}$$\n",
    "$${3 \\choose 0} {3 \\choose 1} {3 \\choose 2} {3 \\choose 3}$$\n",
    "$$...$$\n",
    "$$...$$\n",
    "$$...$$\n",
    "$${8 \\choose 0} {8 \\choose 1} {8 \\choose 2} {8 \\choose 3} {8 \\choose 4} {8 \\choose 5} {8 \\choose 6} {8 \\choose 7} {8 \\choose 8}$$\n",
    "$${9 \\choose 0} {9 \\choose 1} {9 \\choose 2} {9 \\choose 3} {9 \\choose 4} {9 \\choose 5} {9 \\choose 6} {9 \\choose 7} {9 \\choose 8} {9 \\choose 9}$$\n",
    "$${10 \\choose 0} {10 \\choose 1} {10 \\choose 2} {10 \\choose 3} {10 \\choose 4} {10 \\choose 5} {10 \\choose 6} {10 \\choose 7} {10 \\choose 8} {10 \\choose 9} {10 \\choose 10}$$"
   ]
  },
  {
   "cell_type": "code",
   "execution_count": 26,
   "id": "21f29ba2",
   "metadata": {},
   "outputs": [
    {
     "name": "stdout",
     "output_type": "stream",
     "text": [
      "                                                  1         <------ 0 cups\n",
      "\n",
      "                                              1      1         <------ 1 cups\n",
      "\n",
      "                                          1      2      1         <------ 2 cups\n",
      "\n",
      "                                      1      3      3      1         <------ 3 cups\n",
      "\n",
      "                                  1      4      6      4      1         <------ 4 cups\n",
      "\n",
      "                              1      5     10     10      5      1         <------ 5 cups\n",
      "\n",
      "                          1      6     15     20     15      6      1         <------ 6 cups\n",
      "\n",
      "                      1      7     21     35     35     21      7      1         <------ 7 cups\n",
      "\n",
      "                  1      8     28     56     70     56     28      8      1         <------ 8 cups\n",
      "\n",
      "              1      9     36     84    126    126     84     36      9      1         <------ 9 cups\n",
      "\n",
      "          1     10     45    120    210    252    210    120     45     10      1         <------ 10 cups\n",
      "\n"
     ]
    }
   ],
   "source": [
    "N = 10\n",
    "n_list = []\n",
    "for n in range(N+1):\n",
    "    r_list = []\n",
    "    for r in range(n+1):\n",
    "        ncr = math.comb(n,r)\n",
    "        r_list.append(ncr)\n",
    "    n_list.append(r_list)\n",
    "    \n",
    "n_list\n",
    "\n",
    "# Print Pascals Triangle https://www.pythonpool.com/pascals-triangle-python/\n",
    "for i in range(len(n_list)):\n",
    "    print(\"    \"*(len(n_list)-i) ,end=\" \",sep=\" \")\n",
    "    for j in range(0,i+1):\n",
    "        print(\"{0:6}\".format(n_list[i][j]),end=\" \",sep=\" \")\n",
    "    print(\"        <------\", i, \"cups\")\n",
    "    print()"
   ]
  },
  {
   "cell_type": "markdown",
   "id": "6a30c6c0",
   "metadata": {},
   "source": [
    "We can then divide 1 / (the number of combinations) to give us the probability of guessing randomly"
   ]
  },
  {
   "cell_type": "code",
   "execution_count": 25,
   "id": "b2ce7311",
   "metadata": {},
   "outputs": [
    {
     "name": "stdout",
     "output_type": "stream",
     "text": [
      "                                              100.0         <------ 0 cups\n",
      "\n",
      "                                          100.0  100.0         <------ 1 cups\n",
      "\n",
      "                                      100.0   50.0  100.0         <------ 2 cups\n",
      "\n",
      "                                  100.0   33.3   33.3  100.0         <------ 3 cups\n",
      "\n",
      "                              100.0   25.0   16.7   25.0  100.0         <------ 4 cups\n",
      "\n",
      "                          100.0   20.0   10.0   10.0   20.0  100.0         <------ 5 cups\n",
      "\n",
      "                      100.0   16.7    6.7    5.0    6.7   16.7  100.0         <------ 6 cups\n",
      "\n",
      "                  100.0   14.3    4.8    2.9    2.9    4.8   14.3  100.0         <------ 7 cups\n",
      "\n",
      "              100.0   12.5    3.6    1.8    1.4    1.8    3.6   12.5  100.0         <------ 8 cups\n",
      "\n",
      "          100.0   11.1    2.8    1.2    0.8    0.8    1.2    2.8   11.1  100.0         <------ 9 cups\n",
      "\n",
      "      100.0   10.0    2.2    0.8    0.5    0.4    0.5    0.8    2.2   10.0  100.0         <------ 10 cups\n",
      "\n"
     ]
    }
   ],
   "source": [
    "N = 10\n",
    "n_list = []\n",
    "for n in range(N+1):\n",
    "    r_list = []\n",
    "    for r in range(n+1):\n",
    "        ncr = math.comb(n,r)\n",
    "        prob = 1 / ncr\n",
    "        per = prob * 100\n",
    "        r_list.append(round(per,1))\n",
    "    n_list.append(r_list)\n",
    "    \n",
    "n_list\n",
    "\n",
    "# Print Pascals Triangle https://www.pythonpool.com/pascals-triangle-python/\n",
    "for i in range(len(n_list)):\n",
    "    print(\"    \"*(len(n_list)-i) ,end=\" \",sep=\" \")\n",
    "    for j in range(0,i+1):\n",
    "        print(\"{0:6}\".format(n_list[i][j]),end=\" \",sep=\" \")\n",
    "    print(\"        <------\", i, \"cups\")\n",
    "    print()"
   ]
  },
  {
   "cell_type": "markdown",
   "id": "d6018941",
   "metadata": {},
   "source": [
    "If we lower the number of cups in the experiment to 7, 4 with milk in first and 3 with tea first, we can see the probability will go up. The number of ways of selecting the cups decreases so the probability of selecting the correct cups increases. "
   ]
  },
  {
   "cell_type": "code",
   "execution_count": 3,
   "id": "ca681c37",
   "metadata": {},
   "outputs": [
    {
     "name": "stdout",
     "output_type": "stream",
     "text": [
      "Number of ways: 35\n",
      "Probability: 2.9%\n"
     ]
    }
   ],
   "source": [
    "res2 = comb(7, 4)\n",
    "per2 = round((1/res2)*100,1)\n",
    "\n",
    "print(\"Number of ways:\", res2)\n",
    "print(\"Probability: \", per2, \"%\", sep=\"\")"
   ]
  },
  {
   "cell_type": "markdown",
   "id": "38061675",
   "metadata": {},
   "source": [
    "If we increase the number of cups in the experiment to 9, 4 with milk in first and 5 with tea first, we assume the probability will go up. "
   ]
  },
  {
   "cell_type": "code",
   "execution_count": 27,
   "id": "a2427346",
   "metadata": {},
   "outputs": [
    {
     "name": "stdout",
     "output_type": "stream",
     "text": [
      "Number of ways: 126\n",
      "Probability: 0.8%\n"
     ]
    }
   ],
   "source": [
    "res3 = comb(9, 4)\n",
    "per3 = round((1/res3)*100,1)\n",
    "\n",
    "print(\"Number of ways:\", res3)\n",
    "print(\"Probability: \", per3, \"%\", sep=\"\")"
   ]
  },
  {
   "cell_type": "markdown",
   "id": "23832fef",
   "metadata": {},
   "source": [
    "As expected the number of ways of selecting the cups increases so the probability of selecting the correct cups decreases. This time to 0.8% which is below the 1%. \n",
    "\n",
    "To note, when the sample of the experiment is odd, as is the case here, 9 Choose 4 is the same as 9 Choose 5 \n",
    "\n",
    "i.e. if the lady has to choose the 4 cups with milk, that means she has to choose 5 cups which the milk was added second. "
   ]
  },
  {
   "cell_type": "code",
   "execution_count": null,
   "id": "ab5dacc6",
   "metadata": {},
   "outputs": [],
   "source": [
    "res4 = comb(9, 5)\n",
    "per4 = round((1/res4)*100,1)\n",
    "\n",
    "per3 == per4"
   ]
  },
  {
   "cell_type": "markdown",
   "id": "b76e23b9",
   "metadata": {},
   "source": [
    "For the experiment it might make sense that we have an even number of cups with milk in first and tea in first respectively. "
   ]
  },
  {
   "cell_type": "code",
   "execution_count": 28,
   "id": "f4080be3",
   "metadata": {},
   "outputs": [
    {
     "name": "stdout",
     "output_type": "stream",
     "text": [
      "Number of ways: 252\n",
      "Probability: 0.4%\n"
     ]
    }
   ],
   "source": [
    "res5 = comb(10, 5)\n",
    "per5 = round((1/res5)*100,1)\n",
    "\n",
    "print(\"Number of ways:\", res5)\n",
    "print(\"Probability: \", per5, \"%\", sep=\"\")"
   ]
  },
  {
   "cell_type": "markdown",
   "id": "d5998cd3",
   "metadata": {},
   "source": [
    "<h3 style=\"color: #001a79;\">Exercise 1 Continued</h3>\n",
    "\n",
    "<hr style=\"border-top: 1px solid #001a79;\" />\n",
    "\n",
    "*Bonus:* How many would be required if you were to let the taster get one cup wrong while maintaining the 1% threshold?\n"
   ]
  },
  {
   "cell_type": "code",
   "execution_count": 75,
   "id": "afa60005",
   "metadata": {
    "scrolled": true
   },
   "outputs": [],
   "source": [
    "# Number cups from 1 to num\n",
    "import itertools\n",
    "def getCups(num):\n",
    "    cups = list(range(num))\n",
    "    return cups"
   ]
  },
  {
   "cell_type": "code",
   "execution_count": 76,
   "id": "933b0656",
   "metadata": {},
   "outputs": [],
   "source": [
    "# Get the list of combinations \n",
    "def getPoss(num, choice):\n",
    "    cups = getCups(num)\n",
    "    poss = list(itertools.combinations(cups, choice))\n",
    "    return poss"
   ]
  },
  {
   "cell_type": "code",
   "execution_count": 77,
   "id": "b5fd9010",
   "metadata": {},
   "outputs": [
    {
     "data": {
      "text/plain": [
       "Counter({2: 36, 1: 16, 3: 16, 4: 1, 0: 1})"
      ]
     },
     "execution_count": 77,
     "metadata": {},
     "output_type": "execute_result"
    }
   ],
   "source": [
    "# Calculates the number of ways of guessing for each number of correct cups.\n",
    "import random\n",
    "from collections import Counter\n",
    "def experiment(num, choice):\n",
    "    # Pick a random correct answer from the list of possible iterations to simulate the experiment.\n",
    "    correct = set(random.choice(getPoss(num, choice)))\n",
    "\n",
    "    # Count the overlap between the correct answer, and each of the possiblities.\n",
    "    counts = [len(correct & set(i)) for i in itertools.combinations(getCups(num), choice)]\n",
    "\n",
    "    # Returns a dict of the counts for each value.\n",
    "    return Counter(counts) #https://stackoverflow.com/a/5829377"
   ]
  },
  {
   "cell_type": "code",
   "execution_count": 79,
   "id": "625f76dc",
   "metadata": {},
   "outputs": [
    {
     "data": {
      "text/plain": [
       "Counter({1: 0.22857142857142856,\n",
       "         2: 0.5142857142857142,\n",
       "         3: 0.22857142857142856,\n",
       "         0: 0.014285714285714285,\n",
       "         4: 0.014285714285714285})"
      ]
     },
     "execution_count": 79,
     "metadata": {},
     "output_type": "execute_result"
    }
   ],
   "source": [
    "# Calculates the proportions of ways of guessing for each number of correct cups.\n",
    "def getProportion(counts):\n",
    "    total = sum(counts.values())\n",
    "    for k,v in counts.items():\n",
    "        counts[k] = v/total\n",
    "    return counts\n",
    "getProportion(experiment(8, 4))"
   ]
  },
  {
   "cell_type": "code",
   "execution_count": 51,
   "id": "67a2d258",
   "metadata": {},
   "outputs": [],
   "source": [
    "# Calculates the proportions of guessing one wrong cup and the correct cup.\n",
    "def getProbabilty(num_of_cups, half_num):\n",
    "    counts = experiment(num_of_cups, half_num)\n",
    "    x = getProportion(counts)\n",
    "    total = x[half_num] + x[half_num - 1]\n",
    "    return total"
   ]
  },
  {
   "cell_type": "code",
   "execution_count": 80,
   "id": "81b73e5f",
   "metadata": {},
   "outputs": [],
   "source": [
    "# Prints number of cups and probability \n",
    "def printProbability(num_of_cups):\n",
    "    half_num = math.floor(num_of_cups/2)\n",
    "    prob = getProbabilty(num_of_cups, half_num) * 100\n",
    "    print(\"Number of cups:\", num_of_cups)\n",
    "    print(\"Probaility of guessing at least:\", half_num-1, \"cups\")\n",
    "    print(\"Probability: \", prob, \"%\", sep=\"\")"
   ]
  },
  {
   "cell_type": "markdown",
   "id": "665df404",
   "metadata": {},
   "source": [
    "If we limit the number of cups in an experiment to even numbers. \n",
    "\n",
    "We ask the lady to guess half correctly but allow her to get one wrong. \n",
    "\n",
    "We can see as we increase the number of cups the probabilty of her guessing correctly decreases. "
   ]
  },
  {
   "cell_type": "code",
   "execution_count": 85,
   "id": "8ae9215c",
   "metadata": {},
   "outputs": [
    {
     "name": "stdout",
     "output_type": "stream",
     "text": [
      "Number of cups: 4\n",
      "Probaility of guessing at least: 1 cups\n",
      "Probability: 83.33333333333333%\n",
      "-------------------\n",
      "Number of cups: 6\n",
      "Probaility of guessing at least: 2 cups\n",
      "Probability: 50.0%\n",
      "-------------------\n",
      "Number of cups: 8\n",
      "Probaility of guessing at least: 3 cups\n",
      "Probability: 24.285714285714285%\n",
      "-------------------\n",
      "Number of cups: 10\n",
      "Probaility of guessing at least: 4 cups\n",
      "Probability: 10.317460317460316%\n",
      "-------------------\n",
      "Number of cups: 12\n",
      "Probaility of guessing at least: 5 cups\n",
      "Probability: 4.004329004329004%\n",
      "-------------------\n",
      "Number of cups: 14\n",
      "Probaility of guessing at least: 6 cups\n",
      "Probability: 1.456876456876457%\n",
      "-------------------\n",
      "Number of cups: 16\n",
      "Probaility of guessing at least: 7 cups\n",
      "Probability: 0.505050505050505%\n",
      "-------------------\n"
     ]
    }
   ],
   "source": [
    "for i in range(4, 18, 2):\n",
    "    printProbability(i)\n",
    "    print(\"-------------------\")"
   ]
  },
  {
   "cell_type": "markdown",
   "id": "592d3174",
   "metadata": {},
   "source": [
    "The probability of guessing at least 7 cups from 16 is 0.5% which would maintain the 1% threshold. "
   ]
  },
  {
   "cell_type": "markdown",
   "id": "be385367",
   "metadata": {},
   "source": [
    "<h3 style=\"color: #001a79;\">Exercise 3</h3>\n",
    "\n",
    "<hr style=\"border-top: 1px solid #001a79;\" />\n",
    "\n",
    "Use <a href=\"https://docs.scipy.org/doc/scipy/reference/generated/scipy.stats.fisher_exact.html\" style=\"color: #ff791e\">scipy's version of Fisher's exact test</a> to simulate the Lady Tasting Tea problem.\n",
    "\n",
    "Our hypothesis is that the lady cannot tell the difference between a cup of tea that had milk in it first and one that had the tea in it first. \n",
    "\n",
    "**Null Hypothesis**: the lady can not tell if the cup had milk in it first or last.\n",
    "\n",
    "**Alternative Hypothesis**: the lady can tell. \n",
    "\n",
    "We will reject the null hypothesis if the p-value < 0.05. \n",
    "\n",
    "In our experiment the lady got all 8 cups of tea correct. This can be seen in the contigency table below. "
   ]
  },
  {
   "attachments": {
    "LadysTeaTest.PNG": {
     "image/png": "[encoded data removed]"
    }
   },
   "cell_type": "markdown",
   "id": "2cc585df",
   "metadata": {},
   "source": [
    "![LadysTeaTest.PNG](attachment:LadysTeaTest.PNG)\n",
    "Source: https://www.cs.utah.edu/~jeffp/teaching/cs3130/lectures/L15-HypothesisTests1.pdf"
   ]
  },
  {
   "cell_type": "markdown",
   "id": "8e915910",
   "metadata": {},
   "source": [
    "The probability of each table is given by the hypergeometric distribution. These can be computed as: "
   ]
  },
  {
   "cell_type": "code",
   "execution_count": 95,
   "id": "1b18cfac",
   "metadata": {},
   "outputs": [],
   "source": [
    "import numpy as np\n",
    "from scipy.stats import hypergeom\n",
    "table = np.array([[4, 0], [0, 4]])\n",
    "M = table.sum()\n",
    "n = table[0].sum()\n",
    "N = table[:, 0].sum()\n",
    "start, end = hypergeom.support(M, n, N)\n",
    "probs = hypergeom.pmf(np.arange(start, end+1), M, n, N)"
   ]
  },
  {
   "cell_type": "code",
   "execution_count": 98,
   "id": "67db8ac8",
   "metadata": {},
   "outputs": [
    {
     "name": "stdout",
     "output_type": "stream",
     "text": [
      "p(0) = 0.014\n",
      "p(1) = 0.229\n",
      "p(2) = 0.514\n",
      "p(3) = 0.229\n",
      "p(4) = 0.014\n"
     ]
    }
   ],
   "source": [
    "for i in range(len(probs)):\n",
    "    print(f\"p({i}) = {round(probs[i],3)}\")"
   ]
  },
  {
   "cell_type": "code",
   "execution_count": 88,
   "id": "824cef1f",
   "metadata": {},
   "outputs": [],
   "source": [
    "from scipy.stats import fisher_exact"
   ]
  },
  {
   "cell_type": "code",
   "execution_count": 99,
   "id": "fe099699",
   "metadata": {},
   "outputs": [],
   "source": [
    "oddsratio, pvalue = fisher_exact([[4, 0], [0, 4]], alternative='greater')"
   ]
  },
  {
   "cell_type": "code",
   "execution_count": 100,
   "id": "60458872",
   "metadata": {},
   "outputs": [
    {
     "data": {
      "text/plain": [
       "0.014285714285714268"
      ]
     },
     "execution_count": 100,
     "metadata": {},
     "output_type": "execute_result"
    }
   ],
   "source": [
    "pvalue"
   ]
  },
  {
   "cell_type": "code",
   "execution_count": 86,
   "id": "e6a8bf38",
   "metadata": {},
   "outputs": [
    {
     "data": {
      "text/plain": [
       "0.014285714285714285"
      ]
     },
     "execution_count": 86,
     "metadata": {},
     "output_type": "execute_result"
    }
   ],
   "source": [
    "1/70"
   ]
  },
  {
   "cell_type": "code",
   "execution_count": null,
   "id": "8d9fe135",
   "metadata": {},
   "outputs": [],
   "source": []
  }
 ],
 "metadata": {
  "kernelspec": {
   "display_name": "Python 3 (ipykernel)",
   "language": "python",
   "name": "python3"
  },
  "language_info": {
   "codemirror_mode": {
    "name": "ipython",
    "version": 3
   },
   "file_extension": ".py",
   "mimetype": "text/x-python",
   "name": "python",
   "nbconvert_exporter": "python",
   "pygments_lexer": "ipython3",
   "version": "3.9.13"
  }
 },
 "nbformat": 4,
 "nbformat_minor": 5
}
