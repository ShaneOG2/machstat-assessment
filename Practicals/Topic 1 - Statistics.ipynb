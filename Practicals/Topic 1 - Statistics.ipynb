{
 "cells": [
  {
   "cell_type": "markdown",
   "id": "46b2c9b1",
   "metadata": {},
   "source": [
    "<h1 style=\"color: #001a79;\">Topic 1 - Statistics</h1>\n",
    "\n",
    "<h3 style=\"color: #001a79;\">Exercise 1</h3>\n",
    "\n",
    "<hr style=\"border-top: 1px solid #001a79;\" />\n",
    "\n",
    "The exercise in 01-statistics gives about a 1.5% chance of randomly selecting the correct cups. Calculate the minimum number of cups of tea required to ensure the probability of randomly selecting the correct cups is less than or equal to 1%."
   ]
  },
  {
   "cell_type": "markdown",
   "id": "4559866a",
   "metadata": {},
   "source": [
    "The general formula is: $${n \\choose r} = {n! \\over r!(n-r)!}$$\n",
    "\n",
    "where n is the number of things to choose from, and we choose r of them. \n",
    "\n",
    "https://www.mathsisfun.com/combinatorics/combinations-permutations.html\n",
    "\n",
    "Below shows the calculation for the number of ways of selecting 4 cups from 8.\n",
    "\n",
    "$${8 \\choose 4} = {8! \\over 4!(8-4)!} = {8! \\over (4!)(4!)} = 70$$"
   ]
  },
  {
   "cell_type": "code",
   "execution_count": 1,
   "id": "032ea9a8",
   "metadata": {},
   "outputs": [
    {
     "name": "stdout",
     "output_type": "stream",
     "text": [
      "Number of ways: 70\n"
     ]
    }
   ],
   "source": [
    "# The following is adapted from https://stackoverflow.com/a/4941932\n",
    "import math \n",
    "res1 = math.comb(8, 4)\n",
    "print(\"Number of ways:\", res1)"
   ]
  },
  {
   "cell_type": "markdown",
   "id": "5bfd9ece",
   "metadata": {},
   "source": [
    "Therefore, the probability of randomly selecting 4 correct cups from 8 if the lady were simply guessing is 1.4%.\n",
    "\n",
    "We want to calculate the minimum number of cups of tea required to ensure the probability of randomly selecting the correct cups is less than or equal to 1%. \n",
    "\n",
    "To do this we can use Pascal's Triangle. "
   ]
  },
  {
   "cell_type": "markdown",
   "id": "b187736d",
   "metadata": {},
   "source": [
    "The values of the triangle are the values for n choose r, where the rows are n from 0 to 10, and from left to right of each row is r where 0 $\\le$ r $\\le$ n. \n",
    "\n",
    "$${0 \\choose 0}$$\n",
    "$${1 \\choose 0} {1 \\choose 1}$$\n",
    "$${2 \\choose 0} {2 \\choose 1} {2 \\choose 2}$$\n",
    "$${3 \\choose 0} {3 \\choose 1} {3 \\choose 2} {3 \\choose 3}$$\n",
    "$$...$$\n",
    "$$...$$\n",
    "$$...$$\n",
    "$${8 \\choose 0} {8 \\choose 1} {8 \\choose 2} {8 \\choose 3} {8 \\choose 4} {8 \\choose 5} {8 \\choose 6} {8 \\choose 7} {8 \\choose 8}$$\n",
    "$${9 \\choose 0} {9 \\choose 1} {9 \\choose 2} {9 \\choose 3} {9 \\choose 4} {9 \\choose 5} {9 \\choose 6} {9 \\choose 7} {9 \\choose 8} {9 \\choose 9}$$\n",
    "$${10 \\choose 0} {10 \\choose 1} {10 \\choose 2} {10 \\choose 3} {10 \\choose 4} {10 \\choose 5} {10 \\choose 6} {10 \\choose 7} {10 \\choose 8} {10 \\choose 9} {10 \\choose 10}$$"
   ]
  },
  {
   "cell_type": "code",
   "execution_count": 2,
   "id": "21f29ba2",
   "metadata": {},
   "outputs": [
    {
     "name": "stdout",
     "output_type": "stream",
     "text": [
      "                                                  1         <------ 0 cups\n",
      "\n",
      "                                              1      1         <------ 1 cups\n",
      "\n",
      "                                          1      2      1         <------ 2 cups\n",
      "\n",
      "                                      1      3      3      1         <------ 3 cups\n",
      "\n",
      "                                  1      4      6      4      1         <------ 4 cups\n",
      "\n",
      "                              1      5     10     10      5      1         <------ 5 cups\n",
      "\n",
      "                          1      6     15     20     15      6      1         <------ 6 cups\n",
      "\n",
      "                      1      7     21     35     35     21      7      1         <------ 7 cups\n",
      "\n",
      "                  1      8     28     56     70     56     28      8      1         <------ 8 cups\n",
      "\n",
      "              1      9     36     84    126    126     84     36      9      1         <------ 9 cups\n",
      "\n",
      "          1     10     45    120    210    252    210    120     45     10      1         <------ 10 cups\n",
      "\n"
     ]
    }
   ],
   "source": [
    "N = 10\n",
    "n_list = []\n",
    "for n in range(N+1):\n",
    "    r_list = []\n",
    "    for r in range(n+1):\n",
    "        ncr = math.comb(n,r)\n",
    "        r_list.append(ncr)\n",
    "    n_list.append(r_list)\n",
    "    \n",
    "n_list\n",
    "\n",
    "# Print Pascals Triangle https://www.pythonpool.com/pascals-triangle-python/\n",
    "for i in range(len(n_list)):\n",
    "    print(\"    \"*(len(n_list)-i) ,end=\" \",sep=\" \")\n",
    "    for j in range(0,i+1):\n",
    "        print(\"{0:6}\".format(n_list[i][j]),end=\" \",sep=\" \")\n",
    "    print(\"        <------\", i, \"cups\")\n",
    "    print()"
   ]
  },
  {
   "cell_type": "markdown",
   "id": "6a30c6c0",
   "metadata": {},
   "source": [
    "We can then divide 1 / (the number of combinations) to give us the probability of guessing randomly"
   ]
  },
  {
   "cell_type": "code",
   "execution_count": 3,
   "id": "b2ce7311",
   "metadata": {},
   "outputs": [
    {
     "name": "stdout",
     "output_type": "stream",
     "text": [
      "                                              100.0         <------ 0 cups\n",
      "\n",
      "                                          100.0  100.0         <------ 1 cups\n",
      "\n",
      "                                      100.0   50.0  100.0         <------ 2 cups\n",
      "\n",
      "                                  100.0   33.3   33.3  100.0         <------ 3 cups\n",
      "\n",
      "                              100.0   25.0   16.7   25.0  100.0         <------ 4 cups\n",
      "\n",
      "                          100.0   20.0   10.0   10.0   20.0  100.0         <------ 5 cups\n",
      "\n",
      "                      100.0   16.7    6.7    5.0    6.7   16.7  100.0         <------ 6 cups\n",
      "\n",
      "                  100.0   14.3    4.8    2.9    2.9    4.8   14.3  100.0         <------ 7 cups\n",
      "\n",
      "              100.0   12.5    3.6    1.8    1.4    1.8    3.6   12.5  100.0         <------ 8 cups\n",
      "\n",
      "          100.0   11.1    2.8    1.2    0.8    0.8    1.2    2.8   11.1  100.0         <------ 9 cups\n",
      "\n",
      "      100.0   10.0    2.2    0.8    0.5    0.4    0.5    0.8    2.2   10.0  100.0         <------ 10 cups\n",
      "\n"
     ]
    }
   ],
   "source": [
    "N = 10\n",
    "n_list = []\n",
    "for n in range(N+1):\n",
    "    r_list = []\n",
    "    for r in range(n+1):\n",
    "        ncr = math.comb(n,r)\n",
    "        prob = 1 / ncr\n",
    "        per = prob * 100\n",
    "        r_list.append(round(per,1))\n",
    "    n_list.append(r_list)\n",
    "    \n",
    "n_list\n",
    "\n",
    "# Print Pascals Triangle https://www.pythonpool.com/pascals-triangle-python/\n",
    "for i in range(len(n_list)):\n",
    "    print(\"    \"*(len(n_list)-i) ,end=\" \",sep=\" \")\n",
    "    for j in range(0,i+1):\n",
    "        print(\"{0:6}\".format(n_list[i][j]),end=\" \",sep=\" \")\n",
    "    print(\"        <------\", i, \"cups\")\n",
    "    print()"
   ]
  },
  {
   "cell_type": "markdown",
   "id": "d6018941",
   "metadata": {},
   "source": [
    "If we lower the number of cups in the experiment to 7, 4 with milk in first and 3 with tea first, we can see the probability will go up. The number of ways of selecting the cups decreases so the probability of selecting the correct cups increases. "
   ]
  },
  {
   "cell_type": "code",
   "execution_count": 4,
   "id": "ca681c37",
   "metadata": {},
   "outputs": [
    {
     "ename": "NameError",
     "evalue": "name 'comb' is not defined",
     "output_type": "error",
     "traceback": [
      "\u001b[1;31m---------------------------------------------------------------------------\u001b[0m",
      "\u001b[1;31mNameError\u001b[0m                                 Traceback (most recent call last)",
      "Input \u001b[1;32mIn [4]\u001b[0m, in \u001b[0;36m<cell line: 1>\u001b[1;34m()\u001b[0m\n\u001b[1;32m----> 1\u001b[0m res2 \u001b[38;5;241m=\u001b[39m \u001b[43mcomb\u001b[49m(\u001b[38;5;241m7\u001b[39m, \u001b[38;5;241m4\u001b[39m)\n\u001b[0;32m      2\u001b[0m per2 \u001b[38;5;241m=\u001b[39m \u001b[38;5;28mround\u001b[39m((\u001b[38;5;241m1\u001b[39m\u001b[38;5;241m/\u001b[39mres2)\u001b[38;5;241m*\u001b[39m\u001b[38;5;241m100\u001b[39m,\u001b[38;5;241m1\u001b[39m)\n\u001b[0;32m      4\u001b[0m \u001b[38;5;28mprint\u001b[39m(\u001b[38;5;124m\"\u001b[39m\u001b[38;5;124mNumber of ways:\u001b[39m\u001b[38;5;124m\"\u001b[39m, res2)\n",
      "\u001b[1;31mNameError\u001b[0m: name 'comb' is not defined"
     ]
    }
   ],
   "source": [
    "res2 = comb(7, 4)\n",
    "per2 = round((1/res2)*100,1)\n",
    "\n",
    "print(\"Number of ways:\", res2)\n",
    "print(\"Probability: \", per2, \"%\", sep=\"\")"
   ]
  },
  {
   "cell_type": "markdown",
   "id": "38061675",
   "metadata": {},
   "source": [
    "If we increase the number of cups in the experiment to 9, 4 with milk in first and 5 with tea first, we assume the probability will go up. "
   ]
  },
  {
   "cell_type": "code",
   "execution_count": null,
   "id": "a2427346",
   "metadata": {},
   "outputs": [],
   "source": [
    "res3 = comb(9, 4)\n",
    "per3 = round((1/res3)*100,1)\n",
    "\n",
    "print(\"Number of ways:\", res3)\n",
    "print(\"Probability: \", per3, \"%\", sep=\"\")"
   ]
  },
  {
   "cell_type": "markdown",
   "id": "23832fef",
   "metadata": {},
   "source": [
    "As expected the number of ways of selecting the cups increases so the probability of selecting the correct cups decreases. This time to 0.8% which is below the 1%. \n",
    "\n",
    "To note, when the sample of the experiment is odd, as is the case here, 9 Choose 4 is the same as 9 Choose 5 \n",
    "\n",
    "i.e. if the lady has to choose the 4 cups with milk, that means she has to choose 5 cups which the milk was added second. "
   ]
  },
  {
   "cell_type": "code",
   "execution_count": null,
   "id": "ab5dacc6",
   "metadata": {},
   "outputs": [],
   "source": [
    "res4 = comb(9, 5)\n",
    "per4 = round((1/res4)*100,1)\n",
    "\n",
    "per3 == per4"
   ]
  },
  {
   "cell_type": "markdown",
   "id": "b76e23b9",
   "metadata": {},
   "source": [
    "For the experiment it might make sense that we have an even number of cups with milk in first and tea in first respectively. "
   ]
  },
  {
   "cell_type": "code",
   "execution_count": null,
   "id": "f4080be3",
   "metadata": {},
   "outputs": [],
   "source": [
    "res5 = comb(10, 5)\n",
    "per5 = round((1/res5)*100,1)\n",
    "\n",
    "print(\"Number of ways:\", res5)\n",
    "print(\"Probability: \", per5, \"%\", sep=\"\")"
   ]
  },
  {
   "cell_type": "markdown",
   "id": "d5998cd3",
   "metadata": {},
   "source": [
    "<h3 style=\"color: #001a79;\">Exercise 1 Continued</h3>\n",
    "\n",
    "<hr style=\"border-top: 1px solid #001a79;\" />\n",
    "\n",
    "*Bonus:* How many would be required if you were to let the taster get one cup wrong while maintaining the 1% threshold?\n"
   ]
  },
  {
   "cell_type": "code",
   "execution_count": null,
   "id": "afa60005",
   "metadata": {
    "scrolled": true
   },
   "outputs": [],
   "source": [
    "# Number cups from 1 to num\n",
    "import itertools\n",
    "def getCups(num):\n",
    "    cups = list(range(num))\n",
    "    return cups"
   ]
  },
  {
   "cell_type": "code",
   "execution_count": null,
   "id": "933b0656",
   "metadata": {},
   "outputs": [],
   "source": [
    "# Get the list of combinations \n",
    "def getPoss(num, choice):\n",
    "    cups = getCups(num)\n",
    "    poss = list(itertools.combinations(cups, choice))\n",
    "    return poss"
   ]
  },
  {
   "cell_type": "code",
   "execution_count": null,
   "id": "b5fd9010",
   "metadata": {},
   "outputs": [],
   "source": [
    "# Calculates the number of ways of guessing for each number of correct cups.\n",
    "import random\n",
    "from collections import Counter\n",
    "def experiment(num, choice):\n",
    "    # Pick a random correct answer from the list of possible iterations to simulate the experiment.\n",
    "    correct = set(random.choice(getPoss(num, choice)))\n",
    "\n",
    "    # Count the overlap between the correct answer, and each of the possiblities.\n",
    "    counts = [len(correct & set(i)) for i in itertools.combinations(getCups(num), choice)]\n",
    "\n",
    "    # Returns a dict of the counts for each value.\n",
    "    return Counter(counts) #https://stackoverflow.com/a/5829377"
   ]
  },
  {
   "cell_type": "code",
   "execution_count": null,
   "id": "625f76dc",
   "metadata": {},
   "outputs": [],
   "source": [
    "# Calculates the proportions of ways of guessing for each number of correct cups.\n",
    "def getProportion(counts):\n",
    "    total = sum(counts.values())\n",
    "    for k,v in counts.items():\n",
    "        counts[k] = v/total\n",
    "    return counts\n",
    "getProportion(experiment(8, 4))"
   ]
  },
  {
   "cell_type": "code",
   "execution_count": null,
   "id": "67a2d258",
   "metadata": {},
   "outputs": [],
   "source": [
    "# Calculates the proportions of guessing one wrong cup and the correct cup.\n",
    "def getProbabilty(num_of_cups, half_num):\n",
    "    counts = experiment(num_of_cups, half_num)\n",
    "    x = getProportion(counts)\n",
    "    total = x[half_num] + x[half_num - 1]\n",
    "    return total"
   ]
  },
  {
   "cell_type": "code",
   "execution_count": null,
   "id": "81b73e5f",
   "metadata": {},
   "outputs": [],
   "source": [
    "# Prints number of cups and probability \n",
    "def printProbability(num_of_cups):\n",
    "    half_num = math.floor(num_of_cups/2)\n",
    "    prob = getProbabilty(num_of_cups, half_num) * 100\n",
    "    print(\"Number of cups:\", num_of_cups)\n",
    "    print(\"Probaility of guessing at least:\", half_num-1, \"cups\")\n",
    "    print(\"Probability: \", prob, \"%\", sep=\"\")"
   ]
  },
  {
   "cell_type": "markdown",
   "id": "665df404",
   "metadata": {},
   "source": [
    "If we limit the number of cups in an experiment to even numbers. \n",
    "\n",
    "We ask the lady to guess half correctly but allow her to get one wrong. \n",
    "\n",
    "We can see as we increase the number of cups the probabilty of her guessing correctly decreases. "
   ]
  },
  {
   "cell_type": "code",
   "execution_count": null,
   "id": "8ae9215c",
   "metadata": {},
   "outputs": [],
   "source": [
    "for i in range(4, 18, 2):\n",
    "    printProbability(i)\n",
    "    print(\"-------------------\")"
   ]
  },
  {
   "cell_type": "markdown",
   "id": "592d3174",
   "metadata": {},
   "source": [
    "The probability of guessing at least 7 cups from 16 is 0.5% which would maintain the 1% threshold. "
   ]
  },
  {
   "cell_type": "markdown",
   "id": "be385367",
   "metadata": {},
   "source": [
    "<h3 style=\"color: #001a79;\">Exercise 3</h3>\n",
    "\n",
    "<hr style=\"border-top: 1px solid #001a79;\" />\n",
    "\n",
    "Use <a href=\"https://docs.scipy.org/doc/scipy/reference/generated/scipy.stats.fisher_exact.html\" style=\"color: #ff791e\">scipy's version of Fisher's exact test</a> to simulate the Lady Tasting Tea problem.\n",
    "\n",
    "Our hypothesis is that the lady cannot tell the difference between a cup of tea that had milk in it first and one that had the tea in it first. \n",
    "\n",
    "**Null Hypothesis**: the lady can not tell if the cup had milk in it first or last.\n",
    "\n",
    "**Alternative Hypothesis**: the lady can tell. \n",
    "\n",
    "We will reject the null hypothesis if the p-value < 0.05. \n",
    "\n",
    "In our experiment the lady picked all 8 cups of tea correctly. This can be seen in the contigency table below. "
   ]
  },
  {
   "attachments": {
    "LadysTeaTest.PNG": {
     "image/png": "[encoded data removed]"
    }
   },
   "cell_type": "markdown",
   "id": "2cc585df",
   "metadata": {},
   "source": [
    "![LadysTeaTest.PNG](attachment:LadysTeaTest.PNG)\n",
    "Source: https://www.cs.utah.edu/~jeffp/teaching/cs3130/lectures/L15-HypothesisTests1.pdf"
   ]
  },
  {
   "cell_type": "markdown",
   "id": "8e915910",
   "metadata": {},
   "source": [
    "Under the null hypothesis (that she is guessing) we can calculate the probabilities that she guesses milk first correctly: \n",
    "\n",
    "- No cups correctly p(0)\n",
    "- 1 cup correctly p(1)\n",
    "- 2 cups correctly p(2)\n",
    "- 3 cups corrently p(3)\n",
    "- 4 cups correctly p(4)\n",
    "\n",
    "The probability of each possibility is given by the hypergeometric distribution. These can be computed as: "
   ]
  },
  {
   "cell_type": "code",
   "execution_count": null,
   "id": "1b18cfac",
   "metadata": {},
   "outputs": [],
   "source": [
    "import numpy as np\n",
    "from scipy.stats import hypergeom\n",
    "table = np.array([[4, 0], [0, 4]])\n",
    "M = table.sum()\n",
    "n = table[0].sum()\n",
    "N = table[:, 0].sum()\n",
    "start, end = hypergeom.support(M, n, N)\n",
    "probs = hypergeom.pmf(np.arange(start, end+1), M, n, N)"
   ]
  },
  {
   "cell_type": "code",
   "execution_count": null,
   "id": "67db8ac8",
   "metadata": {},
   "outputs": [],
   "source": [
    "for i in range(len(probs)):\n",
    "    print(f\"p({i}) = {round(probs[i],3)}\")"
   ]
  },
  {
   "cell_type": "code",
   "execution_count": null,
   "id": "824cef1f",
   "metadata": {},
   "outputs": [],
   "source": [
    "from scipy.stats import fisher_exact"
   ]
  },
  {
   "cell_type": "code",
   "execution_count": null,
   "id": "fe099699",
   "metadata": {},
   "outputs": [],
   "source": [
    "oddsratio, pvalue = fisher_exact([[4, 0], [0, 4]], alternative='greater')"
   ]
  },
  {
   "cell_type": "code",
   "execution_count": null,
   "id": "60458872",
   "metadata": {},
   "outputs": [],
   "source": [
    "pvalue"
   ]
  },
  {
   "cell_type": "code",
   "execution_count": null,
   "id": "e6a8bf38",
   "metadata": {},
   "outputs": [],
   "source": [
    "1/70"
   ]
  },
  {
   "cell_type": "code",
   "execution_count": null,
   "id": "8874de73",
   "metadata": {},
   "outputs": [],
   "source": [
    "##############################################################"
   ]
  },
  {
   "cell_type": "code",
   "execution_count": null,
   "id": "7178156b",
   "metadata": {},
   "outputs": [],
   "source": [
    "import numpy as np\n",
    "from scipy.stats import hypergeom\n",
    "table = np.array([[6, 2], [1, 4]])\n",
    "M = table.sum()\n",
    "n = table[0].sum()\n",
    "N = table[:, 0].sum()\n",
    "start, end = hypergeom.support(M, n, N)\n",
    "probs = hypergeom.pmf(np.arange(start, end+1), M, n, N)"
   ]
  },
  {
   "cell_type": "code",
   "execution_count": null,
   "id": "42023da8",
   "metadata": {},
   "outputs": [],
   "source": [
    "for i in range(len(probs)):\n",
    "    print(f\"p({i+2}) = {round(probs[i],4)}\")"
   ]
  },
  {
   "cell_type": "markdown",
   "id": "ca41eb42",
   "metadata": {},
   "source": [
    "<h3 style=\"color: #001a79;\">Exercise 4</h3>\n",
    "\n",
    "<hr style=\"border-top: 1px solid #001a79;\" />\n",
    "\n",
    "Take the code from the <a href=\"https://docs.scipy.org/doc/scipy/reference/generated/scipy.stats.ttest_ind.html\" style=\"color: #ff791e\">Examples section of the scipy stats documentation for independent samples t-tests</a>, add it to your own notebook and add explain how it works using MarkDown cells and code comments. Improve it in any way you think it could be improved."
   ]
  },
  {
   "cell_type": "code",
   "execution_count": 12,
   "id": "f2723342",
   "metadata": {},
   "outputs": [],
   "source": [
    "import numpy as np\n",
    "from scipy import stats\n",
    "# Sets rng to a random generator \n",
    "rng = np.random.default_rng()"
   ]
  },
  {
   "cell_type": "markdown",
   "id": "d25a6488",
   "metadata": {},
   "source": [
    "***rng*** is can be used to generate random numbers "
   ]
  },
  {
   "cell_type": "code",
   "execution_count": 13,
   "id": "aeb0536c",
   "metadata": {},
   "outputs": [
    {
     "data": {
      "text/plain": [
       "array([1.07628858, 2.37177398, 7.71652036, 2.29035276, 1.25710545])"
      ]
     },
     "execution_count": 13,
     "metadata": {},
     "output_type": "execute_result"
    }
   ],
   "source": [
    "# Generate an array of 5 random float numbers between 0-10\n",
    "arr1 = rng.random(5)*10\n",
    "arr1"
   ]
  },
  {
   "cell_type": "code",
   "execution_count": 14,
   "id": "20e4fd17",
   "metadata": {},
   "outputs": [
    {
     "data": {
      "text/plain": [
       "array([8, 3, 4, 4, 4], dtype=int64)"
      ]
     },
     "execution_count": 14,
     "metadata": {},
     "output_type": "execute_result"
    }
   ],
   "source": [
    "# Generate an array of 5 random integer numbers between 0-10\n",
    "arr2 = rng.integers(0, 11, 5)\n",
    "arr2"
   ]
  },
  {
   "cell_type": "code",
   "execution_count": 27,
   "id": "51bb8f84",
   "metadata": {},
   "outputs": [
    {
     "data": {
      "image/png": "[encoded data removed]",
      "text/plain": [
       "<Figure size 640x480 with 1 Axes>"
      ]
     },
     "metadata": {},
     "output_type": "display_data"
    }
   ],
   "source": [
    "import matplotlib.pyplot as plt\n",
    "mu = 0\n",
    "sigma = 1\n",
    "x = rng.normal(mu, sigma, 10000)\n",
    "plt.hist(x, bins=20)\n",
    "plt.show()"
   ]
  },
  {
   "cell_type": "code",
   "execution_count": 28,
   "id": "7f3a85aa",
   "metadata": {},
   "outputs": [],
   "source": [
    "######################################################################################"
   ]
  },
  {
   "cell_type": "markdown",
   "id": "fb611913",
   "metadata": {},
   "source": [
    "Test with sample with identical means:"
   ]
  },
  {
   "cell_type": "code",
   "execution_count": 41,
   "id": "a6f60285",
   "metadata": {},
   "outputs": [],
   "source": [
    "# Creates two arrays of 500 random numbers with mean: 5, standard deviation: 10\n",
    "rvs1 = stats.norm.rvs(loc=5, scale=10, size=500, random_state=rng)\n",
    "rvs2 = stats.norm.rvs(loc=5, scale=10, size=500, random_state=rng)"
   ]
  },
  {
   "cell_type": "code",
   "execution_count": 42,
   "id": "d08b05f9",
   "metadata": {},
   "outputs": [
    {
     "data": {
      "text/plain": [
       "Ttest_indResult(statistic=-0.5329404183263082, pvalue=0.5941934722970872)"
      ]
     },
     "execution_count": 42,
     "metadata": {},
     "output_type": "execute_result"
    }
   ],
   "source": [
    "# Runs scipy stats individual samples t-test where variances are assumed equal\n",
    "stats.ttest_ind(rvs1, rvs2)"
   ]
  },
  {
   "cell_type": "code",
   "execution_count": 48,
   "id": "b3a04ca7",
   "metadata": {},
   "outputs": [
    {
     "data": {
      "text/plain": [
       "Ttest_indResult(statistic=-0.5329404183263081, pvalue=0.594193587120109)"
      ]
     },
     "execution_count": 48,
     "metadata": {},
     "output_type": "execute_result"
    }
   ],
   "source": [
    "# Runs scipy stats individual samples t-test where variances are not assumed equal\n",
    "stats.ttest_ind(rvs1, rvs2, equal_var=False)"
   ]
  },
  {
   "cell_type": "markdown",
   "id": "b50bd487",
   "metadata": {},
   "source": [
    "ttest_ind underestimates p for unequal variances:"
   ]
  },
  {
   "cell_type": "code",
   "execution_count": 45,
   "id": "44d7bb3f",
   "metadata": {},
   "outputs": [],
   "source": [
    "# Creates an array of 500 random numbers with mean: 5, standard deviation: 20\n",
    "rvs3 = stats.norm.rvs(loc=5, scale=20, size=500, random_state=rng)"
   ]
  },
  {
   "cell_type": "code",
   "execution_count": 46,
   "id": "78cac156",
   "metadata": {},
   "outputs": [
    {
     "data": {
      "text/plain": [
       "Ttest_indResult(statistic=-0.14307843596494033, pvalue=0.8862571170965818)"
      ]
     },
     "execution_count": 46,
     "metadata": {},
     "output_type": "execute_result"
    }
   ],
   "source": [
    "# Runs scipy stats individual samples t-test where variances are assumed equal\n",
    "stats.ttest_ind(rvs1, rvs3)"
   ]
  },
  {
   "cell_type": "code",
   "execution_count": 49,
   "id": "27ce0f5b",
   "metadata": {},
   "outputs": [
    {
     "data": {
      "text/plain": [
       "Ttest_indResult(statistic=-0.14307843596494035, pvalue=0.88626706722912)"
      ]
     },
     "execution_count": 49,
     "metadata": {},
     "output_type": "execute_result"
    }
   ],
   "source": [
    "# Runs scipy stats individual samples t-test where variances are not assumed equal\n",
    "stats.ttest_ind(rvs1, rvs3, equal_var=False)"
   ]
  },
  {
   "cell_type": "markdown",
   "id": "cdf50f27",
   "metadata": {},
   "source": [
    "When n1 != n2, the equal variance t-statistic is no longer equal to the unequal variance t-statistic:"
   ]
  },
  {
   "cell_type": "code",
   "execution_count": 56,
   "id": "30a36fdb",
   "metadata": {},
   "outputs": [],
   "source": [
    "# Creates an array of 100 random numbers with mean: 5, standard deviation: 20\n",
    "rvs4 = stats.norm.rvs(loc=5, scale=20, size=100, random_state=rng)"
   ]
  },
  {
   "cell_type": "code",
   "execution_count": 57,
   "id": "322b37ae",
   "metadata": {},
   "outputs": [
    {
     "data": {
      "text/plain": [
       "Ttest_indResult(statistic=-1.8238571675742246, pvalue=0.06867262602514206)"
      ]
     },
     "execution_count": 57,
     "metadata": {},
     "output_type": "execute_result"
    }
   ],
   "source": [
    "# Runs scipy stats individual samples t-test where variances are assumed equal\n",
    "stats.ttest_ind(rvs1, rvs4)"
   ]
  },
  {
   "cell_type": "code",
   "execution_count": 58,
   "id": "c24805be",
   "metadata": {},
   "outputs": [
    {
     "data": {
      "text/plain": [
       "Ttest_indResult(statistic=-1.2865219876361818, pvalue=0.20090302582103794)"
      ]
     },
     "execution_count": 58,
     "metadata": {},
     "output_type": "execute_result"
    }
   ],
   "source": [
    "# Runs scipy stats individual samples t-test where variances are not assumed equal\n",
    "stats.ttest_ind(rvs1, rvs4, equal_var=False)"
   ]
  },
  {
   "cell_type": "code",
   "execution_count": null,
   "id": "54dc6183",
   "metadata": {},
   "outputs": [],
   "source": []
  }
 ],
 "metadata": {
  "kernelspec": {
   "display_name": "Python 3 (ipykernel)",
   "language": "python",
   "name": "python3"
  },
  "language_info": {
   "codemirror_mode": {
    "name": "ipython",
    "version": 3
   },
   "file_extension": ".py",
   "mimetype": "text/x-python",
   "name": "python",
   "nbconvert_exporter": "python",
   "pygments_lexer": "ipython3",
   "version": "3.9.13"
  }
 },
 "nbformat": 4,
 "nbformat_minor": 5
}
