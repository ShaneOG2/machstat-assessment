{
 "cells": [
  {
   "cell_type": "markdown",
   "id": "46b2c9b1",
   "metadata": {},
   "source": [
    "<h3 style=\"color: #001a79;\">Exercise 1.1</h3>\n",
    "\n",
    "<hr style=\"border-top: 1px solid #001a79;\" />\n",
    "\n",
    "The exercise in 01-statistics gives about a 1.5% chance of randomly selecting the correct cups. Calculate the minimum number of cups of tea required to ensure the probability of randomly selecting the correct cups is less than or equal to 1%.\n",
    "\n",
    "<hr style=\"border-top: 1px solid #001a79;\" />"
   ]
  },
  {
   "cell_type": "markdown",
   "id": "4559866a",
   "metadata": {},
   "source": [
    "Below shows the calculation for the number of ways of selecting 4 cups from 8."
   ]
  },
  {
   "cell_type": "code",
   "execution_count": 1,
   "id": "032ea9a8",
   "metadata": {},
   "outputs": [
    {
     "name": "stdout",
     "output_type": "stream",
     "text": [
      "Number of ways: 70\n"
     ]
    }
   ],
   "source": [
    "# The following is adapted from https://stackoverflow.com/a/4941932\n",
    "from math import comb\n",
    "res1 = comb(8, 4)\n",
    "print(\"Number of ways:\", res1)"
   ]
  },
  {
   "cell_type": "markdown",
   "id": "5bfd9ece",
   "metadata": {},
   "source": [
    "Therefore, the probability of randomly selecting 4 correct cups from 8 if the lady were simply guessing is 1.4%."
   ]
  },
  {
   "cell_type": "code",
   "execution_count": 2,
   "id": "867a2c15",
   "metadata": {},
   "outputs": [
    {
     "name": "stdout",
     "output_type": "stream",
     "text": [
      "Probability: 1.4%\n"
     ]
    }
   ],
   "source": [
    "per1 = round((1/res1)*100,1)\n",
    "print(\"Probability: \", per1, \"%\", sep=\"\")"
   ]
  },
  {
   "cell_type": "markdown",
   "id": "d6018941",
   "metadata": {},
   "source": [
    "If we lower the number of cups in the experiment to 7, 4 with milk in first and 3 with tea first, we assume the probability will go up. \n",
    "\n",
    "Try selecting 4 cups from 7. "
   ]
  },
  {
   "cell_type": "code",
   "execution_count": 3,
   "id": "ca681c37",
   "metadata": {},
   "outputs": [
    {
     "name": "stdout",
     "output_type": "stream",
     "text": [
      "Number of ways: 35\n",
      "Probability: 2.9%\n"
     ]
    }
   ],
   "source": [
    "res2 = comb(7, 4)\n",
    "per2 = round((1/res2)*100,1)\n",
    "\n",
    "print(\"Number of ways:\", res2)\n",
    "print(\"Probability: \", per2, \"%\", sep=\"\")"
   ]
  },
  {
   "cell_type": "markdown",
   "id": "38061675",
   "metadata": {},
   "source": [
    "As expected the number of ways of ways of selecting the cups decreases so the probability of selecting the correct cups increases. \n",
    "\n",
    "If we increase the number of cups in the experiment to 9, 4 with milk in first and 5 with tea first, we assume the probability will go up. \n",
    "\n",
    "Try selecting 4 cups from 9. "
   ]
  },
  {
   "cell_type": "code",
   "execution_count": 4,
   "id": "a2427346",
   "metadata": {},
   "outputs": [
    {
     "name": "stdout",
     "output_type": "stream",
     "text": [
      "Number of ways: 126\n",
      "Probability: 0.8%\n"
     ]
    }
   ],
   "source": [
    "res3 = comb(9, 4)\n",
    "per3 = round((1/res3)*100,1)\n",
    "\n",
    "print(\"Number of ways:\", res3)\n",
    "print(\"Probability: \", per3, \"%\", sep=\"\")"
   ]
  },
  {
   "cell_type": "markdown",
   "id": "23832fef",
   "metadata": {},
   "source": [
    "As expected the number of ways of ways of selecting the cups increases so the probability of selecting the correct cups decreases. This time to 0.8% which is below the 1%. \n",
    "\n",
    "To note, when the sample of the experiment is odd, as is the case here, 9 Choose 4 is the same as 9 Choose 5 \n",
    "\n",
    "i.e. if the lady has to choose the 4 cups with milk, that means she has to choose 5 cups which the milk was added second. "
   ]
  },
  {
   "cell_type": "code",
   "execution_count": 5,
   "id": "ab5dacc6",
   "metadata": {},
   "outputs": [
    {
     "data": {
      "text/plain": [
       "True"
      ]
     },
     "execution_count": 5,
     "metadata": {},
     "output_type": "execute_result"
    }
   ],
   "source": [
    "res4 = comb(9, 5)\n",
    "per4 = round((1/res4)*100,1)\n",
    "\n",
    "per3 == per4"
   ]
  },
  {
   "cell_type": "markdown",
   "id": "d5998cd3",
   "metadata": {},
   "source": [
    "<h3 style=\"color: #001a79;\">Exercise 1.2</h3>\n",
    "\n",
    "<hr style=\"border-top: 1px solid #001a79;\" />\n",
    "\n",
    "*Bonus:* How many would be required if you were to let the taster get one cup wrong while maintaining the 1% threshold?\n",
    "\n",
    "<hr style=\"border-top: 1px solid #001a79;\" />\n",
    "\n",
    "I was going to go with the below... not sure if it's correct given section distribution in Ians notes. comeback to it. "
   ]
  },
  {
   "cell_type": "code",
   "execution_count": 6,
   "id": "3b037232",
   "metadata": {},
   "outputs": [
    {
     "name": "stdout",
     "output_type": "stream",
     "text": [
      "8C4: 1.4%\n",
      "8C3: 1.8%\n"
     ]
    }
   ],
   "source": [
    "test1_1 = comb(8, 4)\n",
    "per1_1 = round((1/test1_1)*100,1)\n",
    "\n",
    "test1_2 = comb(8, 3)\n",
    "per1_2 = round((1/test1_2)*100,1)\n",
    "\n",
    "print(\"8C4: \", per1_1, \"%\", sep=\"\")\n",
    "print(\"8C3: \", per1_2, \"%\", sep=\"\")"
   ]
  },
  {
   "cell_type": "code",
   "execution_count": 7,
   "id": "93a6d6d6",
   "metadata": {},
   "outputs": [
    {
     "name": "stdout",
     "output_type": "stream",
     "text": [
      "9C4: 0.8%\n",
      "9C3: 1.2%\n"
     ]
    }
   ],
   "source": [
    "test2_1 = comb(9, 4)\n",
    "per2_1 = round((1/test2_1)*100,1)\n",
    "\n",
    "test2_2 = comb(9, 3)\n",
    "per2_2 = round((1/test2_2)*100,1)\n",
    "\n",
    "print(\"9C4: \", per2_1, \"%\", sep=\"\")\n",
    "print(\"9C3: \", per2_2, \"%\", sep=\"\")"
   ]
  },
  {
   "cell_type": "code",
   "execution_count": 8,
   "id": "ba7e083a",
   "metadata": {},
   "outputs": [
    {
     "name": "stdout",
     "output_type": "stream",
     "text": [
      "10C5: 0.4%\n",
      "10C4: 0.5%\n"
     ]
    }
   ],
   "source": [
    "test3_1 = comb(10, 5)\n",
    "per3_1 = round((1/test3_1)*100,1)\n",
    "\n",
    "test3_2 = comb(10, 4)\n",
    "per3_2 = round((1/test3_2)*100,1)\n",
    "\n",
    "print(\"10C5: \", per3_1, \"%\", sep=\"\")\n",
    "print(\"10C4: \", per3_2, \"%\", sep=\"\")"
   ]
  },
  {
   "cell_type": "markdown",
   "id": "be385367",
   "metadata": {},
   "source": [
    "<h3 style=\"color: #001a79;\">Exercise 1.2</h3>\n",
    "\n",
    "<hr style=\"border-top: 1px solid #001a79;\" />\n",
    "\n",
    "Use <a href=\"https://docs.scipy.org/doc/scipy/reference/generated/scipy.stats.fisher_exact.html\" style=\"color: #ff791e\">scipy's version of Fisher's exact test</a> to simulate the Lady Tasting Tea problem.\n",
    "\n",
    "<hr style=\"border-top: 1px solid #001a79;\" />"
   ]
  },
  {
   "cell_type": "code",
   "execution_count": 9,
   "id": "824cef1f",
   "metadata": {},
   "outputs": [],
   "source": [
    "import scipy.stats as ss"
   ]
  },
  {
   "cell_type": "code",
   "execution_count": null,
   "id": "fe099699",
   "metadata": {},
   "outputs": [],
   "source": []
  }
 ],
 "metadata": {
  "kernelspec": {
   "display_name": "Python 3 (ipykernel)",
   "language": "python",
   "name": "python3"
  },
  "language_info": {
   "codemirror_mode": {
    "name": "ipython",
    "version": 3
   },
   "file_extension": ".py",
   "mimetype": "text/x-python",
   "name": "python",
   "nbconvert_exporter": "python",
   "pygments_lexer": "ipython3",
   "version": "3.9.13"
  }
 },
 "nbformat": 4,
 "nbformat_minor": 5
}
