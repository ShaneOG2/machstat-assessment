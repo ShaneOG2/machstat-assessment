{
 "cells": [
  {
   "cell_type": "markdown",
   "id": "46b2c9b1",
   "metadata": {},
   "source": [
    "<h3 style=\"color: #001a79;\">Exercise 1.1</h3>\n",
    "\n",
    "<hr style=\"border-top: 1px solid #001a79;\" />\n",
    "\n",
    "The exercise in 01-statistics gives about a 1.5% chance of randomly selecting the correct cups. Calculate the minimum number of cups of tea required to ensure the probability of randomly selecting the correct cups is less than or equal to 1%.\n",
    "\n",
    "<hr style=\"border-top: 1px solid #001a79;\" />"
   ]
  },
  {
   "cell_type": "markdown",
   "id": "4559866a",
   "metadata": {},
   "source": [
    "Below shows the calculation for the number of ways of selecting 4 cups from 8."
   ]
  },
  {
   "cell_type": "code",
   "execution_count": null,
   "id": "032ea9a8",
   "metadata": {},
   "outputs": [],
   "source": [
    "# The following is adapted from https://stackoverflow.com/a/4941932\n",
    "from math import comb\n",
    "res1 = comb(8, 4)\n",
    "print(\"Number of ways:\", res1)"
   ]
  },
  {
   "cell_type": "markdown",
   "id": "5bfd9ece",
   "metadata": {},
   "source": [
    "Therefore, the probability of randomly selecting 4 correct cups from 8 if the lady were simply guessing is 1.4%."
   ]
  },
  {
   "cell_type": "code",
   "execution_count": null,
   "id": "867a2c15",
   "metadata": {},
   "outputs": [],
   "source": [
    "per1 = round((1/res1)*100,1)\n",
    "print(\"Probability: \", per1, \"%\", sep=\"\")"
   ]
  },
  {
   "cell_type": "markdown",
   "id": "d6018941",
   "metadata": {},
   "source": [
    "If we lower the number of cups in the experiment to 7, 4 with milk in first and 3 with tea first, we assume the probability will go up. \n",
    "\n",
    "Try selecting 4 cups from 7. "
   ]
  },
  {
   "cell_type": "code",
   "execution_count": null,
   "id": "ca681c37",
   "metadata": {},
   "outputs": [],
   "source": [
    "res2 = comb(7, 4)\n",
    "per2 = round((1/res2)*100,1)\n",
    "\n",
    "print(\"Number of ways:\", res2)\n",
    "print(\"Probability: \", per2, \"%\", sep=\"\")"
   ]
  },
  {
   "cell_type": "markdown",
   "id": "38061675",
   "metadata": {},
   "source": [
    "As expected the number of ways of ways of selecting the cups decreases so the probability of selecting the correct cups increases. \n",
    "\n",
    "If we increase the number of cups in the experiment to 9, 4 with milk in first and 5 with tea first, we assume the probability will go up. \n",
    "\n",
    "Try selecting 4 cups from 9. "
   ]
  },
  {
   "cell_type": "code",
   "execution_count": null,
   "id": "a2427346",
   "metadata": {},
   "outputs": [],
   "source": [
    "res3 = comb(9, 4)\n",
    "per3 = round((1/res3)*100,1)\n",
    "\n",
    "print(\"Number of ways:\", res3)\n",
    "print(\"Probability: \", per3, \"%\", sep=\"\")"
   ]
  },
  {
   "cell_type": "markdown",
   "id": "23832fef",
   "metadata": {},
   "source": [
    "As expected the number of ways of ways of selecting the cups increases so the probability of selecting the correct cups decreases. This time to 0.8% which is below the 1%. \n",
    "\n",
    "To note, when the sample of the experiment is odd, as is the case here, 9 Choose 4 is the same as 9 Choose 5 \n",
    "\n",
    "i.e. if the lady has to choose the 4 cups with milk, that means she has to choose 5 cups which the milk was added second. "
   ]
  },
  {
   "cell_type": "code",
   "execution_count": null,
   "id": "ab5dacc6",
   "metadata": {},
   "outputs": [],
   "source": [
    "res4 = comb(9, 5)\n",
    "per4 = round((1/res4)*100,1)\n",
    "\n",
    "per3 == per4"
   ]
  },
  {
   "cell_type": "markdown",
   "id": "d5998cd3",
   "metadata": {},
   "source": [
    "<h3 style=\"color: #001a79;\">Exercise 1.2</h3>\n",
    "\n",
    "<hr style=\"border-top: 1px solid #001a79;\" />\n",
    "\n",
    "*Bonus:* How many would be required if you were to let the taster get one cup wrong while maintaining the 1% threshold?\n",
    "\n",
    "<hr style=\"border-top: 1px solid #001a79;\" />\n",
    "\n",
    "I was going to go with the below... not sure if it's correct given section distribution in Ians notes. comeback to it. "
   ]
  },
  {
   "cell_type": "code",
   "execution_count": 1,
   "id": "afa60005",
   "metadata": {
    "scrolled": true
   },
   "outputs": [],
   "source": [
    "import itertools\n",
    "def getCups(num):\n",
    "    cups = list(range(num))\n",
    "    return cups"
   ]
  },
  {
   "cell_type": "code",
   "execution_count": 2,
   "id": "933b0656",
   "metadata": {},
   "outputs": [],
   "source": [
    "def getPoss(num, choice):\n",
    "    cups = getCups(num)\n",
    "    poss = list(itertools.combinations(cups, choice))\n",
    "    return poss"
   ]
  },
  {
   "cell_type": "code",
   "execution_count": 3,
   "id": "b5fd9010",
   "metadata": {},
   "outputs": [],
   "source": [
    "import random\n",
    "from collections import Counter\n",
    "def experiment(num, choice):\n",
    "    # Pick a random correct answer from the list of possible iterations to simulate the experiment.\n",
    "    milkfirst = set(random.choice(getPoss(num, choice)))\n",
    "\n",
    "    # Count the overlap between the correct answer, and each of the 70 possiblities.\n",
    "    counts = [len(milkfirst & set(i)) for i in itertools.combinations(getCups(num), choice)]\n",
    "\n",
    "    # Creat the plot.\n",
    "    return Counter(counts) #https://stackoverflow.com/a/5829377"
   ]
  },
  {
   "cell_type": "code",
   "execution_count": 4,
   "id": "625f76dc",
   "metadata": {},
   "outputs": [],
   "source": [
    "def getProportion(counts):\n",
    "    total = sum(counts.values())\n",
    "    for k,v in counts.items():\n",
    "        counts[k] = v/total\n",
    "    return counts"
   ]
  },
  {
   "cell_type": "code",
   "execution_count": 5,
   "id": "67a2d258",
   "metadata": {},
   "outputs": [],
   "source": [
    "def getProbabilty(num_of_cups, half_num):\n",
    "    x = getProportion(experiment(num_of_cups, half_num))\n",
    "    total = x[half_num] + x[half_num - 1]\n",
    "    return total"
   ]
  },
  {
   "cell_type": "code",
   "execution_count": 6,
   "id": "e22985c8",
   "metadata": {},
   "outputs": [
    {
     "data": {
      "text/plain": [
       "0.24285714285714285"
      ]
     },
     "execution_count": 6,
     "metadata": {},
     "output_type": "execute_result"
    }
   ],
   "source": [
    "getProbabilty(8,4)"
   ]
  },
  {
   "cell_type": "code",
   "execution_count": 11,
   "id": "67ee712f",
   "metadata": {},
   "outputs": [
    {
     "name": "stdout",
     "output_type": "stream",
     "text": [
      "10 0.10317460317460317\n",
      "11 0.10317460317460317\n",
      "12 0.10317460317460317\n",
      "13 0.10317460317460317\n",
      "14 0.10317460317460317\n",
      "15 0.10317460317460317\n",
      "16 0.10317460317460317\n",
      "17 0.10317460317460317\n",
      "18 0.10317460317460317\n",
      "19 0.10317460317460317\n",
      "20 0.10317460317460317\n",
      "21 0.10317460317460317\n",
      "22 0.10317460317460317\n",
      "23 0.10317460317460317\n",
      "24 0.10317460317460317\n",
      "25 0.10317460317460317\n"
     ]
    },
    {
     "ename": "KeyboardInterrupt",
     "evalue": "",
     "output_type": "error",
     "traceback": [
      "\u001b[1;31m---------------------------------------------------------------------------\u001b[0m",
      "\u001b[1;31mKeyboardInterrupt\u001b[0m                         Traceback (most recent call last)",
      "Input \u001b[1;32mIn [11]\u001b[0m, in \u001b[0;36m<cell line: 8>\u001b[1;34m()\u001b[0m\n\u001b[0;32m      8\u001b[0m \u001b[38;5;28;01mwhile\u001b[39;00m probability \u001b[38;5;241m>\u001b[39m \u001b[38;5;241m0.01\u001b[39m:\n\u001b[0;32m      9\u001b[0m     half_num \u001b[38;5;241m=\u001b[39m math\u001b[38;5;241m.\u001b[39mfloor(num_of_cups\u001b[38;5;241m/\u001b[39m\u001b[38;5;241m2\u001b[39m)\n\u001b[1;32m---> 10\u001b[0m     probabality \u001b[38;5;241m=\u001b[39m \u001b[43mgetProbabilty\u001b[49m\u001b[43m(\u001b[49m\u001b[43mnum_of_cups\u001b[49m\u001b[43m,\u001b[49m\u001b[43m \u001b[49m\u001b[43mhalf_num\u001b[49m\u001b[43m)\u001b[49m\n\u001b[0;32m     11\u001b[0m     \u001b[38;5;28mprint\u001b[39m(num_of_cups, probability)\n\u001b[0;32m     12\u001b[0m     num_of_cups \u001b[38;5;241m+\u001b[39m\u001b[38;5;241m=\u001b[39m \u001b[38;5;241m1\u001b[39m\n",
      "Input \u001b[1;32mIn [5]\u001b[0m, in \u001b[0;36mgetProbabilty\u001b[1;34m(num_of_cups, half_num)\u001b[0m\n\u001b[0;32m      1\u001b[0m \u001b[38;5;28;01mdef\u001b[39;00m \u001b[38;5;21mgetProbabilty\u001b[39m(num_of_cups, half_num):\n\u001b[1;32m----> 2\u001b[0m     x \u001b[38;5;241m=\u001b[39m getProportion(\u001b[43mexperiment\u001b[49m\u001b[43m(\u001b[49m\u001b[43mnum_of_cups\u001b[49m\u001b[43m,\u001b[49m\u001b[43m \u001b[49m\u001b[43mhalf_num\u001b[49m\u001b[43m)\u001b[49m)\n\u001b[0;32m      3\u001b[0m     total \u001b[38;5;241m=\u001b[39m x[half_num] \u001b[38;5;241m+\u001b[39m x[half_num \u001b[38;5;241m-\u001b[39m \u001b[38;5;241m1\u001b[39m]\n\u001b[0;32m      4\u001b[0m     \u001b[38;5;28;01mreturn\u001b[39;00m total\n",
      "Input \u001b[1;32mIn [3]\u001b[0m, in \u001b[0;36mexperiment\u001b[1;34m(num, choice)\u001b[0m\n\u001b[0;32m      5\u001b[0m milkfirst \u001b[38;5;241m=\u001b[39m \u001b[38;5;28mset\u001b[39m(random\u001b[38;5;241m.\u001b[39mchoice(getPoss(num, choice)))\n\u001b[0;32m      7\u001b[0m \u001b[38;5;66;03m# Count the overlap between the correct answer, and each of the 70 possiblities.\u001b[39;00m\n\u001b[1;32m----> 8\u001b[0m counts \u001b[38;5;241m=\u001b[39m [\u001b[38;5;28mlen\u001b[39m(milkfirst \u001b[38;5;241m&\u001b[39m \u001b[38;5;28mset\u001b[39m(i)) \u001b[38;5;28;01mfor\u001b[39;00m i \u001b[38;5;129;01min\u001b[39;00m itertools\u001b[38;5;241m.\u001b[39mcombinations(getCups(num), choice)]\n\u001b[0;32m     10\u001b[0m \u001b[38;5;66;03m# Creat the plot.\u001b[39;00m\n\u001b[0;32m     11\u001b[0m \u001b[38;5;28;01mreturn\u001b[39;00m Counter(counts)\n",
      "Input \u001b[1;32mIn [3]\u001b[0m, in \u001b[0;36m<listcomp>\u001b[1;34m(.0)\u001b[0m\n\u001b[0;32m      5\u001b[0m milkfirst \u001b[38;5;241m=\u001b[39m \u001b[38;5;28mset\u001b[39m(random\u001b[38;5;241m.\u001b[39mchoice(getPoss(num, choice)))\n\u001b[0;32m      7\u001b[0m \u001b[38;5;66;03m# Count the overlap between the correct answer, and each of the 70 possiblities.\u001b[39;00m\n\u001b[1;32m----> 8\u001b[0m counts \u001b[38;5;241m=\u001b[39m [\u001b[38;5;28mlen\u001b[39m(\u001b[43mmilkfirst\u001b[49m \u001b[38;5;241m&\u001b[39m \u001b[38;5;28mset\u001b[39m(i)) \u001b[38;5;28;01mfor\u001b[39;00m i \u001b[38;5;129;01min\u001b[39;00m itertools\u001b[38;5;241m.\u001b[39mcombinations(getCups(num), choice)]\n\u001b[0;32m     10\u001b[0m \u001b[38;5;66;03m# Creat the plot.\u001b[39;00m\n\u001b[0;32m     11\u001b[0m \u001b[38;5;28;01mreturn\u001b[39;00m Counter(counts)\n",
      "\u001b[1;31mKeyboardInterrupt\u001b[0m: "
     ]
    }
   ],
   "source": [
    "# The number of cups.\n",
    "import math\n",
    "\n",
    "num_of_cups = 10\n",
    "half_num = math.floor(num_of_cups/2)\n",
    "probability = getProbabilty(num_of_cups, half_num)\n",
    "\n",
    "while probability > 0.01:\n",
    "    half_num = math.floor(num_of_cups/2)\n",
    "    probabality = getProbabilty(num_of_cups, half_num)\n",
    "    print(num_of_cups, probability)\n",
    "    num_of_cups += 1"
   ]
  },
  {
   "cell_type": "code",
   "execution_count": 10,
   "id": "ee17ab41",
   "metadata": {},
   "outputs": [
    {
     "data": {
      "text/plain": [
       "0.01456876456876457"
      ]
     },
     "execution_count": 10,
     "metadata": {},
     "output_type": "execute_result"
    }
   ],
   "source": [
    "getProbabilty(14,7)"
   ]
  },
  {
   "cell_type": "code",
   "execution_count": null,
   "id": "3b037232",
   "metadata": {},
   "outputs": [],
   "source": [
    "test1_1 = comb(8, 4)\n",
    "per1_1 = round((1/test1_1)*100,1)\n",
    "\n",
    "test1_2 = comb(8, 3)\n",
    "per1_2 = round((1/test1_2)*100,1)\n",
    "\n",
    "print(\"8C4: \", per1_1, \"%\", sep=\"\")\n",
    "print(\"8C3: \", per1_2, \"%\", sep=\"\")"
   ]
  },
  {
   "cell_type": "code",
   "execution_count": null,
   "id": "93a6d6d6",
   "metadata": {},
   "outputs": [],
   "source": [
    "test2_1 = comb(9, 4)\n",
    "per2_1 = round((1/test2_1)*100,1)\n",
    "\n",
    "test2_2 = comb(9, 3)\n",
    "per2_2 = round((1/test2_2)*100,1)\n",
    "\n",
    "print(\"9C4: \", per2_1, \"%\", sep=\"\")\n",
    "print(\"9C3: \", per2_2, \"%\", sep=\"\")"
   ]
  },
  {
   "cell_type": "code",
   "execution_count": null,
   "id": "ba7e083a",
   "metadata": {},
   "outputs": [],
   "source": [
    "test3_1 = comb(10, 5)\n",
    "per3_1 = round((1/test3_1)*100,1)\n",
    "\n",
    "test3_2 = comb(10, 4)\n",
    "per3_2 = round((1/test3_2)*100,1)\n",
    "\n",
    "print(\"10C5: \", per3_1, \"%\", sep=\"\")\n",
    "print(\"10C4: \", per3_2, \"%\", sep=\"\")"
   ]
  },
  {
   "cell_type": "markdown",
   "id": "be385367",
   "metadata": {},
   "source": [
    "<h3 style=\"color: #001a79;\">Exercise 1.2</h3>\n",
    "\n",
    "<hr style=\"border-top: 1px solid #001a79;\" />\n",
    "\n",
    "Use <a href=\"https://docs.scipy.org/doc/scipy/reference/generated/scipy.stats.fisher_exact.html\" style=\"color: #ff791e\">scipy's version of Fisher's exact test</a> to simulate the Lady Tasting Tea problem.\n",
    "\n",
    "<hr style=\"border-top: 1px solid #001a79;\" />"
   ]
  },
  {
   "cell_type": "code",
   "execution_count": 2,
   "id": "824cef1f",
   "metadata": {},
   "outputs": [],
   "source": [
    "from scipy.stats import fisher_exact"
   ]
  },
  {
   "cell_type": "code",
   "execution_count": 21,
   "id": "fe099699",
   "metadata": {},
   "outputs": [],
   "source": [
    "oddsratio, pvalue = fisher_exact([[4, 0], [0, 4]], alternative='greater')"
   ]
  },
  {
   "cell_type": "code",
   "execution_count": 22,
   "id": "60458872",
   "metadata": {},
   "outputs": [
    {
     "data": {
      "text/plain": [
       "0.014285714285714268"
      ]
     },
     "execution_count": 22,
     "metadata": {},
     "output_type": "execute_result"
    }
   ],
   "source": [
    "pvalue"
   ]
  },
  {
   "cell_type": "code",
   "execution_count": null,
   "id": "e6a8bf38",
   "metadata": {},
   "outputs": [],
   "source": [
    "1/70"
   ]
  }
 ],
 "metadata": {
  "kernelspec": {
   "display_name": "Python 3 (ipykernel)",
   "language": "python",
   "name": "python3"
  },
  "language_info": {
   "codemirror_mode": {
    "name": "ipython",
    "version": 3
   },
   "file_extension": ".py",
   "mimetype": "text/x-python",
   "name": "python",
   "nbconvert_exporter": "python",
   "pygments_lexer": "ipython3",
   "version": "3.9.13"
  }
 },
 "nbformat": 4,
 "nbformat_minor": 5
}
