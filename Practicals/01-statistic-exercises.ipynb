{
 "cells": [
  {
   "cell_type": "markdown",
   "id": "46b2c9b1",
   "metadata": {},
   "source": [
    "<h3 style=\"color: #001a79;\">Exercise 1.1</h3>\n",
    "\n",
    "<hr style=\"border-top: 1px solid #001a79;\" />\n",
    "\n",
    "The exercise in 01-statistics gives about a 1.5% chance of randomly selecting the correct cups. Calculate the minimum number of cups of tea required to ensure the probability of randomly selecting the correct cups is less than or equal to 1%.\n",
    "\n",
    "<hr style=\"border-top: 1px solid #001a79;\" />"
   ]
  },
  {
   "cell_type": "markdown",
   "id": "4559866a",
   "metadata": {},
   "source": [
    "Below shows the calculation for the number of ways of selecting 4 cups from 8."
   ]
  },
  {
   "cell_type": "code",
   "execution_count": 14,
   "id": "032ea9a8",
   "metadata": {},
   "outputs": [
    {
     "name": "stdout",
     "output_type": "stream",
     "text": [
      "Number of ways: 70\n"
     ]
    }
   ],
   "source": [
    "# The following is adapted from https://stackoverflow.com/a/4941932\n",
    "from math import comb\n",
    "res1 = comb(8, 4)\n",
    "print(\"Number of ways:\", res1)"
   ]
  },
  {
   "cell_type": "markdown",
   "id": "5bfd9ece",
   "metadata": {},
   "source": [
    "Therefore, the probability of randomly selecting 4 correct cups from 8 if the lady were simply guessing."
   ]
  },
  {
   "cell_type": "code",
   "execution_count": 15,
   "id": "867a2c15",
   "metadata": {},
   "outputs": [
    {
     "name": "stdout",
     "output_type": "stream",
     "text": [
      "1.4%\n"
     ]
    }
   ],
   "source": [
    "per1 = round((1/res1)*100,1)\n",
    "print(per1, \"%\", sep=\"\")"
   ]
  },
  {
   "cell_type": "code",
   "execution_count": 18,
   "id": "ca681c37",
   "metadata": {},
   "outputs": [
    {
     "name": "stdout",
     "output_type": "stream",
     "text": [
      "Number of ways: 126\n",
      "0.8%\n"
     ]
    }
   ],
   "source": [
    "res2 = comb(9, 4)\n",
    "per2 = round((1/res2)*100,1)\n",
    "\n",
    "print(\"Number of ways:\", res2)\n",
    "print(per2, \"%\", sep=\"\")"
   ]
  },
  {
   "cell_type": "code",
   "execution_count": 5,
   "id": "a2427346",
   "metadata": {},
   "outputs": [
    {
     "data": {
      "text/plain": [
       "0.8"
      ]
     },
     "execution_count": 5,
     "metadata": {},
     "output_type": "execute_result"
    }
   ],
   "source": [
    "res3 = round((1/comb(9, 5))*100,1)\n",
    "res3"
   ]
  },
  {
   "cell_type": "markdown",
   "id": "d5998cd3",
   "metadata": {},
   "source": [
    "<h3 style=\"color: #001a79;\">Exercise 1.1</h3>\n",
    "\n",
    "*Bonus:* How many would be required if you were to let the taster get one cup wrong while maintaining the 1% threshold?"
   ]
  },
  {
   "cell_type": "markdown",
   "id": "be385367",
   "metadata": {},
   "source": [
    "<h3 style=\"color: #001a79;\">Exercise 1.2</h3>\n",
    "\n",
    "<hr style=\"border-top: 1px solid #001a79;\" />\n",
    "\n",
    "Use <a href=\"https://docs.scipy.org/doc/scipy/reference/generated/scipy.stats.fisher_exact.html\" style=\"color: #ff791e\">scipy's version of Fisher's exact test</a> to simulate the Lady Tasting Tea problem."
   ]
  },
  {
   "cell_type": "code",
   "execution_count": 4,
   "id": "824cef1f",
   "metadata": {},
   "outputs": [],
   "source": [
    "import scipy.stats as ss"
   ]
  },
  {
   "cell_type": "code",
   "execution_count": null,
   "id": "fe099699",
   "metadata": {},
   "outputs": [],
   "source": []
  }
 ],
 "metadata": {
  "kernelspec": {
   "display_name": "Python 3 (ipykernel)",
   "language": "python",
   "name": "python3"
  },
  "language_info": {
   "codemirror_mode": {
    "name": "ipython",
    "version": 3
   },
   "file_extension": ".py",
   "mimetype": "text/x-python",
   "name": "python",
   "nbconvert_exporter": "python",
   "pygments_lexer": "ipython3",
   "version": "3.9.13"
  }
 },
 "nbformat": 4,
 "nbformat_minor": 5
}
