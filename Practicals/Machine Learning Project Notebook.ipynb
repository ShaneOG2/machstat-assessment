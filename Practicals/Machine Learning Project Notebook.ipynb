{
 "cells": [
  {
   "cell_type": "markdown",
   "id": "3ef1a7fe",
   "metadata": {},
   "source": [
    "<h1 style=\"color: #001a79;\">Topic 4 - Machine Learning Project Notebook</h1>"
   ]
  },
  {
   "cell_type": "code",
   "execution_count": 4,
   "id": "b069dbdb",
   "metadata": {},
   "outputs": [],
   "source": [
    "# Efficient numerical arrays.\n",
    "import numpy as np\n",
    "\n",
    "# Dataframes for data manipulation and analysis.\n",
    "import pandas as pd\n",
    "\n",
    "# Neural networks.\n",
    "import tensorflow.keras as keras\n",
    "\n",
    "# Plotting.\n",
    "import matplotlib.pyplot as plt"
   ]
  },
  {
   "cell_type": "markdown",
   "id": "41ff46d5",
   "metadata": {},
   "source": [
    "<h3 style=\"color: #001a79;\">Introduction</h3>\n",
    "\n",
    "<hr style=\"border-top: 1px solid #001a79;\" />"
   ]
  },
  {
   "cell_type": "markdown",
   "id": "ffc939df",
   "metadata": {},
   "source": [
    "Comeback to\n",
    "\n",
    "https://keras.io/examples/timeseries/timeseries_anomaly_detection/"
   ]
  },
  {
   "cell_type": "markdown",
   "id": "a3b3f399",
   "metadata": {},
   "source": [
    "<h3 style=\"color: #001a79;\">Numenta Anomaly Benchmark (NAB) Dataset</h3>\n",
    "\n",
    "<hr style=\"border-top: 1px solid #001a79;\" />\n",
    "\n",
    "- The Numenta Anomaly Benchmark (NAB) is a novel benchmark for evaluating algorithms for anomaly detection in streaming, online applications. \n",
    "- It is comprised of over 50 labeled real-world and artificial timeseries data files. \n",
    "- Plus a novel scoring mechanism designed for real-time applications.\n",
    "- All of the data and code is fully open-source, with extensive documentation, and a scoreboard of anomaly detection algorithms found <a href=\"https://github.com/numenta/NAB\" target=\"_blank\">here</a>. \n",
    "\n",
    "Source: <a href=\"https://github.com/numenta/NAB\" target=\"_blank\">Kaggle: Numenta Anomaly Benchmark (NAB) Dataset</a>"
   ]
  },
  {
   "cell_type": "markdown",
   "id": "25b52c16",
   "metadata": {},
   "source": [
    "<h3 style=\"color: #001a79;\">Loading the Data</h3>\n",
    "\n",
    "<hr style=\"border-top: 1px solid #001a79;\" />"
   ]
  },
  {
   "cell_type": "markdown",
   "id": "f2c92377",
   "metadata": {},
   "source": [
    "To demonstrate anomaly detection effectively we will use two datasets from the Numenta Anomaly Benchmark (NAB) Dataset. \n",
    "\n",
    "1. <a href=\"https://github.com/numenta/NAB/blob/master/data/artificialNoAnomaly/art_daily_small_noise.csv\" target=\"_blank\">`art_daily_small_noise.csv`</a> file for training.\n",
    "2. <a href=\"https://github.com/numenta/NAB/blob/master/data/artificialWithAnomaly/art_daily_jumpsup.csv\" target=\"_blank\">`the art_daily_jumpsup.csv`</a> file for testing."
   ]
  },
  {
   "cell_type": "markdown",
   "id": "09e5c2a4",
   "metadata": {},
   "source": [
    "### `df_small_noise`"
   ]
  },
  {
   "cell_type": "code",
   "execution_count": null,
   "id": "0be068d2",
   "metadata": {},
   "outputs": [],
   "source": [
    "# These CSVs can be found at the follow URL.\n",
    "root_url = 'https://raw.githubusercontent.com/numenta/NAB/master/data/'"
   ]
  },
  {
   "cell_type": "code",
   "execution_count": 7,
   "id": "727533be",
   "metadata": {},
   "outputs": [],
   "source": [
    "# art_daily_small_noise.csv data file url.\n",
    "no_anomaly_url = root_url + 'artificialNoAnomaly/art_daily_small_noise.csv'"
   ]
  },
  {
   "cell_type": "code",
   "execution_count": 16,
   "id": "50a7a7ae",
   "metadata": {
    "scrolled": false
   },
   "outputs": [
    {
     "data": {
      "text/html": [
       "<div>\n",
       "<style scoped>\n",
       "    .dataframe tbody tr th:only-of-type {\n",
       "        vertical-align: middle;\n",
       "    }\n",
       "\n",
       "    .dataframe tbody tr th {\n",
       "        vertical-align: top;\n",
       "    }\n",
       "\n",
       "    .dataframe thead th {\n",
       "        text-align: right;\n",
       "    }\n",
       "</style>\n",
       "<table border=\"1\" class=\"dataframe\">\n",
       "  <thead>\n",
       "    <tr style=\"text-align: right;\">\n",
       "      <th></th>\n",
       "      <th>value</th>\n",
       "    </tr>\n",
       "    <tr>\n",
       "      <th>timestamp</th>\n",
       "      <th></th>\n",
       "    </tr>\n",
       "  </thead>\n",
       "  <tbody>\n",
       "    <tr>\n",
       "      <th>2014-04-01 00:00:00</th>\n",
       "      <td>18.324919</td>\n",
       "    </tr>\n",
       "    <tr>\n",
       "      <th>2014-04-01 00:05:00</th>\n",
       "      <td>21.970327</td>\n",
       "    </tr>\n",
       "    <tr>\n",
       "      <th>2014-04-01 00:10:00</th>\n",
       "      <td>18.624806</td>\n",
       "    </tr>\n",
       "    <tr>\n",
       "      <th>2014-04-01 00:15:00</th>\n",
       "      <td>21.953684</td>\n",
       "    </tr>\n",
       "    <tr>\n",
       "      <th>2014-04-01 00:20:00</th>\n",
       "      <td>21.909120</td>\n",
       "    </tr>\n",
       "    <tr>\n",
       "      <th>...</th>\n",
       "      <td>...</td>\n",
       "    </tr>\n",
       "    <tr>\n",
       "      <th>2014-04-14 23:35:00</th>\n",
       "      <td>20.211195</td>\n",
       "    </tr>\n",
       "    <tr>\n",
       "      <th>2014-04-14 23:40:00</th>\n",
       "      <td>20.531041</td>\n",
       "    </tr>\n",
       "    <tr>\n",
       "      <th>2014-04-14 23:45:00</th>\n",
       "      <td>19.032127</td>\n",
       "    </tr>\n",
       "    <tr>\n",
       "      <th>2014-04-14 23:50:00</th>\n",
       "      <td>21.798801</td>\n",
       "    </tr>\n",
       "    <tr>\n",
       "      <th>2014-04-14 23:55:00</th>\n",
       "      <td>18.682620</td>\n",
       "    </tr>\n",
       "  </tbody>\n",
       "</table>\n",
       "<p>4032 rows × 1 columns</p>\n",
       "</div>"
      ],
      "text/plain": [
       "                         value\n",
       "timestamp                     \n",
       "2014-04-01 00:00:00  18.324919\n",
       "2014-04-01 00:05:00  21.970327\n",
       "2014-04-01 00:10:00  18.624806\n",
       "2014-04-01 00:15:00  21.953684\n",
       "2014-04-01 00:20:00  21.909120\n",
       "...                        ...\n",
       "2014-04-14 23:35:00  20.211195\n",
       "2014-04-14 23:40:00  20.531041\n",
       "2014-04-14 23:45:00  19.032127\n",
       "2014-04-14 23:50:00  21.798801\n",
       "2014-04-14 23:55:00  18.682620\n",
       "\n",
       "[4032 rows x 1 columns]"
      ]
     },
     "execution_count": 16,
     "metadata": {},
     "output_type": "execute_result"
    }
   ],
   "source": [
    "# Save data as a df - df_small_noise. \n",
    "# parse_dates=True will tell pandas you are importing a date while index_col=\"timestamp\" sets timestamp as the index. \n",
    "parse_dates=True\n",
    "df_small_noise = pd.read_csv(no_anomaly_url, parse_dates=True, index_col=\"timestamp\")\n",
    "df_small_noise"
   ]
  },
  {
   "cell_type": "markdown",
   "id": "76ec3008",
   "metadata": {},
   "source": [
    "`df_small_noise` contains 4,032 rows of data with 2 columns `timestamp` (the index) and `value`. \n",
    "\n",
    "`timestamp` - <br>\n",
    "`value` - "
   ]
  },
  {
   "cell_type": "markdown",
   "id": "ead89e2d",
   "metadata": {},
   "source": [
    "### The Daily Jumpsup Dataframe "
   ]
  },
  {
   "cell_type": "code",
   "execution_count": 11,
   "id": "3b953399",
   "metadata": {},
   "outputs": [
    {
     "data": {
      "text/html": [
       "<div>\n",
       "<style scoped>\n",
       "    .dataframe tbody tr th:only-of-type {\n",
       "        vertical-align: middle;\n",
       "    }\n",
       "\n",
       "    .dataframe tbody tr th {\n",
       "        vertical-align: top;\n",
       "    }\n",
       "\n",
       "    .dataframe thead th {\n",
       "        text-align: right;\n",
       "    }\n",
       "</style>\n",
       "<table border=\"1\" class=\"dataframe\">\n",
       "  <thead>\n",
       "    <tr style=\"text-align: right;\">\n",
       "      <th></th>\n",
       "      <th>value</th>\n",
       "    </tr>\n",
       "    <tr>\n",
       "      <th>timestamp</th>\n",
       "      <th></th>\n",
       "    </tr>\n",
       "  </thead>\n",
       "  <tbody>\n",
       "    <tr>\n",
       "      <th>2014-04-01 00:00:00</th>\n",
       "      <td>19.761252</td>\n",
       "    </tr>\n",
       "    <tr>\n",
       "      <th>2014-04-01 00:05:00</th>\n",
       "      <td>20.500833</td>\n",
       "    </tr>\n",
       "    <tr>\n",
       "      <th>2014-04-01 00:10:00</th>\n",
       "      <td>19.961641</td>\n",
       "    </tr>\n",
       "    <tr>\n",
       "      <th>2014-04-01 00:15:00</th>\n",
       "      <td>21.490266</td>\n",
       "    </tr>\n",
       "    <tr>\n",
       "      <th>2014-04-01 00:20:00</th>\n",
       "      <td>20.187739</td>\n",
       "    </tr>\n",
       "  </tbody>\n",
       "</table>\n",
       "</div>"
      ],
      "text/plain": [
       "                         value\n",
       "timestamp                     \n",
       "2014-04-01 00:00:00  19.761252\n",
       "2014-04-01 00:05:00  20.500833\n",
       "2014-04-01 00:10:00  19.961641\n",
       "2014-04-01 00:15:00  21.490266\n",
       "2014-04-01 00:20:00  20.187739"
      ]
     },
     "execution_count": 11,
     "metadata": {},
     "output_type": "execute_result"
    }
   ],
   "source": [
    "# Data file with anomaly.\n",
    "with_anomaly_url = root_url + 'artificialWithAnomaly/art_daily_jumpsup.csv'\n",
    "\n",
    "df_daily_jumpsup  = pd.read_csv(with_anomaly_url, parse_dates=True, index_col=\"timestamp\")\n",
    "df_daily_jumpsup .head()"
   ]
  },
  {
   "cell_type": "code",
   "execution_count": null,
   "id": "41102fcc",
   "metadata": {},
   "outputs": [],
   "source": []
  },
  {
   "cell_type": "code",
   "execution_count": null,
   "id": "837c5c96",
   "metadata": {},
   "outputs": [],
   "source": []
  }
 ],
 "metadata": {
  "kernelspec": {
   "display_name": "Python 3 (ipykernel)",
   "language": "python",
   "name": "python3"
  },
  "language_info": {
   "codemirror_mode": {
    "name": "ipython",
    "version": 3
   },
   "file_extension": ".py",
   "mimetype": "text/x-python",
   "name": "python",
   "nbconvert_exporter": "python",
   "pygments_lexer": "ipython3",
   "version": "3.9.13"
  }
 },
 "nbformat": 4,
 "nbformat_minor": 5
}
