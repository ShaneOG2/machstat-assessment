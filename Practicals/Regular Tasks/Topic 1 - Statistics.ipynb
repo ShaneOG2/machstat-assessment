{
 "cells": [
  {
   "cell_type": "markdown",
   "id": "9c74a3e2",
   "metadata": {},
   "source": [
    "<h1 style=\"color: #001a79;\">Topic 1 - Statistics</h1>"
   ]
  },
  {
   "cell_type": "code",
   "execution_count": 16,
   "id": "fa71a9f4",
   "metadata": {},
   "outputs": [],
   "source": [
    "# Access to the mathematical functions defined by the C standard.\n",
    "import math \n",
    "\n",
    "# Iterate over data structures that can be stepped over using a for-loop. \n",
    "import itertools\n",
    "\n",
    "# For doing (pseudo-) random things in Python.\n",
    "import random\n",
    "\n",
    "# Specialized container datatypes.\n",
    "from collections import Counter\n",
    "\n",
    "# Mains statistics package.\n",
    "from scipy.stats import hypergeom\n",
    "from scipy.stats import fisher_exact\n",
    "from scipy import stats\n",
    "import scipy.stats as ss\n",
    "\n",
    "# Alternative statistics package.\n",
    "import statsmodels.stats.weightstats as stat\n",
    "\n",
    "# Efficient numerical arrays.\n",
    "import numpy as np\n",
    "\n",
    "# Data frames.\n",
    "import pandas as pd\n",
    "\n",
    "# Plotting.\n",
    "import matplotlib.pyplot as plt\n",
    "\n",
    "# Fancier plotting.\n",
    "import seaborn as sns"
   ]
  },
  {
   "cell_type": "markdown",
   "id": "46b2c9b1",
   "metadata": {},
   "source": [
    "<h3 style=\"color: #001a79;\">Exercise 1</h3>\n",
    "\n",
    "<hr style=\"border-top: 1px solid #001a79;\" />\n",
    "\n",
    "The exercise in <a href=\"https://github.com/ianmcloughlin/2223-S1-machine-learn-stats/blob/main/notebooks/01-statistics.ipynb\" target=\"_blank\">01-statistics</a> gives about a 1.5% chance of randomly selecting the correct cups. Calculate the minimum number of cups of tea required to ensure the probability of randomly selecting the correct cups is less than or equal to 1%."
   ]
  },
  {
   "cell_type": "markdown",
   "id": "4559866a",
   "metadata": {},
   "source": [
    "The general formula is: $${n \\choose r} = {n! \\over r!(n-r)!}$$\n",
    "\n",
    "where n is the number of things to choose from, and we choose r of them. \n",
    "\n",
    "Source: <a href=\"https://www.mathsisfun.com/combinatorics/combinations-permutations.html\" target=\"_blank\">Math is Fun: Combinations and Permutations\n",
    "</a>\n",
    "\n",
    "Below shows the calculation for the number of ways of selecting 4 cups from 8.\n",
    "\n",
    "$${8 \\choose 4} = {8! \\over 4!(8-4)!} = {8! \\over (4!)(4!)} = 70$$"
   ]
  },
  {
   "cell_type": "code",
   "execution_count": 6,
   "id": "032ea9a8",
   "metadata": {},
   "outputs": [
    {
     "name": "stdout",
     "output_type": "stream",
     "text": [
      "Number of ways: 70\n"
     ]
    }
   ],
   "source": [
    "res1 = math.comb(8, 4)\n",
    "print(\"Number of ways:\", res1)"
   ]
  },
  {
   "cell_type": "markdown",
   "id": "f2890473",
   "metadata": {},
   "source": [
    "Source: <a href=\"https://stackoverflow.com/a/4941932\" target=\"_blank\">Stackoverflow: math.comb</a>"
   ]
  },
  {
   "cell_type": "markdown",
   "id": "5bfd9ece",
   "metadata": {},
   "source": [
    "Therefore, the probability of randomly selecting 4 correct cups from 8 if the lady were simply guessing is 1.4%.\n",
    "\n",
    "We want to calculate the minimum number of cups of tea required to ensure the probability of randomly selecting the correct cups is less than or equal to 1%. \n",
    "\n",
    "To do this we can use Pascal's Triangle. "
   ]
  },
  {
   "cell_type": "markdown",
   "id": "b187736d",
   "metadata": {},
   "source": [
    "The values of the triangle are the values for n choose r, where the rows are n from 0 to 10, and from left to right of each row is r where 0 $\\le$ r $\\le$ n. \n",
    "\n",
    "$${0 \\choose 0}$$\n",
    "$${1 \\choose 0} {1 \\choose 1}$$\n",
    "$${2 \\choose 0} {2 \\choose 1} {2 \\choose 2}$$\n",
    "$${3 \\choose 0} {3 \\choose 1} {3 \\choose 2} {3 \\choose 3}$$\n",
    "$$...$$\n",
    "$$...$$\n",
    "$$...$$\n",
    "$${8 \\choose 0} {8 \\choose 1} {8 \\choose 2} {8 \\choose 3} {8 \\choose 4} {8 \\choose 5} {8 \\choose 6} {8 \\choose 7} {8 \\choose 8}$$\n",
    "$${9 \\choose 0} {9 \\choose 1} {9 \\choose 2} {9 \\choose 3} {9 \\choose 4} {9 \\choose 5} {9 \\choose 6} {9 \\choose 7} {9 \\choose 8} {9 \\choose 9}$$\n",
    "$${10 \\choose 0} {10 \\choose 1} {10 \\choose 2} {10 \\choose 3} {10 \\choose 4} {10 \\choose 5} {10 \\choose 6} {10 \\choose 7} {10 \\choose 8} {10 \\choose 9} {10 \\choose 10}$$"
   ]
  },
  {
   "cell_type": "code",
   "execution_count": 7,
   "id": "21f29ba2",
   "metadata": {},
   "outputs": [
    {
     "name": "stdout",
     "output_type": "stream",
     "text": [
      "                                                  1         <------ 0 cups\n",
      "\n",
      "                                              1      1         <------ 1 cups\n",
      "\n",
      "                                          1      2      1         <------ 2 cups\n",
      "\n",
      "                                      1      3      3      1         <------ 3 cups\n",
      "\n",
      "                                  1      4      6      4      1         <------ 4 cups\n",
      "\n",
      "                              1      5     10     10      5      1         <------ 5 cups\n",
      "\n",
      "                          1      6     15     20     15      6      1         <------ 6 cups\n",
      "\n",
      "                      1      7     21     35     35     21      7      1         <------ 7 cups\n",
      "\n",
      "                  1      8     28     56     70     56     28      8      1         <------ 8 cups\n",
      "\n",
      "              1      9     36     84    126    126     84     36      9      1         <------ 9 cups\n",
      "\n",
      "          1     10     45    120    210    252    210    120     45     10      1         <------ 10 cups\n",
      "\n"
     ]
    }
   ],
   "source": [
    "N = 10\n",
    "n_list = []\n",
    "for n in range(N+1):\n",
    "    r_list = []\n",
    "    for r in range(n+1):\n",
    "        ncr = math.comb(n,r)\n",
    "        r_list.append(ncr)\n",
    "    n_list.append(r_list)\n",
    "    \n",
    "n_list\n",
    "\n",
    "# Print Pascals Triangle \n",
    "for i in range(len(n_list)):\n",
    "    print(\"    \"*(len(n_list)-i) ,end=\" \",sep=\" \")\n",
    "    for j in range(0,i+1):\n",
    "        print(\"{0:6}\".format(n_list[i][j]),end=\" \",sep=\" \")\n",
    "    print(\"        <------\", i, \"cups\")\n",
    "    print()"
   ]
  },
  {
   "cell_type": "markdown",
   "id": "b0cb8dfc",
   "metadata": {},
   "source": [
    "Source: <a href=\"https://www.pythonpool.com/pascals-triangle-python/\" target=\"_blank\">Print Pascals Triangle</a>"
   ]
  },
  {
   "cell_type": "markdown",
   "id": "6a30c6c0",
   "metadata": {},
   "source": [
    "We can then divide 1 / (the number of combinations) to give us the probability of guessing randomly"
   ]
  },
  {
   "cell_type": "code",
   "execution_count": 8,
   "id": "b2ce7311",
   "metadata": {},
   "outputs": [
    {
     "name": "stdout",
     "output_type": "stream",
     "text": [
      "                                              100.0         <------ 0 cups\n",
      "\n",
      "                                          100.0  100.0         <------ 1 cups\n",
      "\n",
      "                                      100.0   50.0  100.0         <------ 2 cups\n",
      "\n",
      "                                  100.0   33.3   33.3  100.0         <------ 3 cups\n",
      "\n",
      "                              100.0   25.0   16.7   25.0  100.0         <------ 4 cups\n",
      "\n",
      "                          100.0   20.0   10.0   10.0   20.0  100.0         <------ 5 cups\n",
      "\n",
      "                      100.0   16.7    6.7    5.0    6.7   16.7  100.0         <------ 6 cups\n",
      "\n",
      "                  100.0   14.3    4.8    2.9    2.9    4.8   14.3  100.0         <------ 7 cups\n",
      "\n",
      "              100.0   12.5    3.6    1.8    1.4    1.8    3.6   12.5  100.0         <------ 8 cups\n",
      "\n",
      "          100.0   11.1    2.8    1.2    0.8    0.8    1.2    2.8   11.1  100.0         <------ 9 cups\n",
      "\n",
      "      100.0   10.0    2.2    0.8    0.5    0.4    0.5    0.8    2.2   10.0  100.0         <------ 10 cups\n",
      "\n"
     ]
    }
   ],
   "source": [
    "N = 10\n",
    "n_list = []\n",
    "for n in range(N+1):\n",
    "    r_list = []\n",
    "    for r in range(n+1):\n",
    "        ncr = math.comb(n,r)\n",
    "        prob = 1 / ncr\n",
    "        per = prob * 100\n",
    "        r_list.append(round(per,1))\n",
    "    n_list.append(r_list)\n",
    "    \n",
    "n_list\n",
    "\n",
    "# Print Pascals Triangle https://www.pythonpool.com/pascals-triangle-python/\n",
    "for i in range(len(n_list)):\n",
    "    print(\"    \"*(len(n_list)-i) ,end=\" \",sep=\" \")\n",
    "    for j in range(0,i+1):\n",
    "        print(\"{0:6}\".format(n_list[i][j]),end=\" \",sep=\" \")\n",
    "    print(\"        <------\", i, \"cups\")\n",
    "    print()"
   ]
  },
  {
   "cell_type": "markdown",
   "id": "d6018941",
   "metadata": {},
   "source": [
    "If we lower the number of cups in the experiment to 7, 4 with milk in first and 3 with tea first, we can see the probability will go up. The number of ways of selecting the cups decreases so the probability of selecting the correct cups increases. "
   ]
  },
  {
   "cell_type": "code",
   "execution_count": 9,
   "id": "ca681c37",
   "metadata": {},
   "outputs": [
    {
     "name": "stdout",
     "output_type": "stream",
     "text": [
      "Number of ways: 35\n",
      "Probability: 2.9%\n"
     ]
    }
   ],
   "source": [
    "res2 = math.comb(7, 4)\n",
    "per2 = round((1/res2)*100,1)\n",
    "\n",
    "print(\"Number of ways:\", res2)\n",
    "print(\"Probability: \", per2, \"%\", sep=\"\")"
   ]
  },
  {
   "cell_type": "markdown",
   "id": "38061675",
   "metadata": {},
   "source": [
    "If we increase the number of cups in the experiment to 9, 4 with milk in first and 5 with tea first, we assume the probability will go up. "
   ]
  },
  {
   "cell_type": "code",
   "execution_count": 10,
   "id": "a2427346",
   "metadata": {},
   "outputs": [
    {
     "name": "stdout",
     "output_type": "stream",
     "text": [
      "Number of ways: 126\n",
      "Probability: 0.8%\n"
     ]
    }
   ],
   "source": [
    "res3 = math.comb(9, 4)\n",
    "per3 = round((1/res3)*100,1)\n",
    "\n",
    "print(\"Number of ways:\", res3)\n",
    "print(\"Probability: \", per3, \"%\", sep=\"\")"
   ]
  },
  {
   "cell_type": "markdown",
   "id": "23832fef",
   "metadata": {},
   "source": [
    "As expected the number of ways of selecting the cups increases so the probability of selecting the correct cups decreases. This time to 0.8% which is below the 1%. \n",
    "\n",
    "To note, when the sample of the experiment is odd, as is the case here, 9 Choose 4 is the same as 9 Choose 5 \n",
    "\n",
    "i.e. if the lady has to choose the 4 cups with milk, that means she has to choose 5 cups which the milk was added second. "
   ]
  },
  {
   "cell_type": "code",
   "execution_count": 11,
   "id": "ab5dacc6",
   "metadata": {},
   "outputs": [
    {
     "data": {
      "text/plain": [
       "True"
      ]
     },
     "execution_count": 11,
     "metadata": {},
     "output_type": "execute_result"
    }
   ],
   "source": [
    "res4 = math.comb(9, 5)\n",
    "per4 = round((1/res4)*100,1)\n",
    "\n",
    "per3 == per4"
   ]
  },
  {
   "cell_type": "markdown",
   "id": "b76e23b9",
   "metadata": {},
   "source": [
    "For the experiment it might make sense that we have an even number of cups with milk in first and tea in first respectively. "
   ]
  },
  {
   "cell_type": "code",
   "execution_count": 12,
   "id": "f4080be3",
   "metadata": {},
   "outputs": [
    {
     "name": "stdout",
     "output_type": "stream",
     "text": [
      "Number of ways: 252\n",
      "Probability: 0.4%\n"
     ]
    }
   ],
   "source": [
    "res5 = math.comb(10, 5)\n",
    "per5 = round((1/res5)*100,1)\n",
    "\n",
    "print(\"Number of ways:\", res5)\n",
    "print(\"Probability: \", per5, \"%\", sep=\"\")"
   ]
  },
  {
   "cell_type": "markdown",
   "id": "d5998cd3",
   "metadata": {},
   "source": [
    "<h3 style=\"color: #001a79;\">Exercise 1 Continued</h3>\n",
    "\n",
    "<hr style=\"border-top: 1px solid #001a79;\" />\n",
    "\n",
    "*Bonus:* How many would be required if you were to let the taster get one cup wrong while maintaining the 1% threshold?\n"
   ]
  },
  {
   "cell_type": "code",
   "execution_count": 17,
   "id": "afa60005",
   "metadata": {
    "scrolled": true
   },
   "outputs": [],
   "source": [
    "# Number cups from 1 to num\n",
    "def getCups(num):\n",
    "    cups = list(range(num))\n",
    "    return cups"
   ]
  },
  {
   "cell_type": "code",
   "execution_count": 18,
   "id": "933b0656",
   "metadata": {},
   "outputs": [],
   "source": [
    "# Get the list of combinations \n",
    "def getPoss(num, choice):\n",
    "    cups = getCups(num)\n",
    "    poss = list(itertools.combinations(cups, choice))\n",
    "    return poss"
   ]
  },
  {
   "cell_type": "code",
   "execution_count": 19,
   "id": "b5fd9010",
   "metadata": {},
   "outputs": [],
   "source": [
    "# Calculates the number of ways of guessing for each number of correct cups.\n",
    "def experiment(num, choice):\n",
    "    # Pick a random correct answer from the list of possible iterations to simulate the experiment.\n",
    "    correct = set(random.choice(getPoss(num, choice)))\n",
    "\n",
    "    # Count the overlap between the correct answer, and each of the possiblities.\n",
    "    counts = [len(correct & set(i)) for i in itertools.combinations(getCups(num), choice)]\n",
    "\n",
    "    # Returns a dict of the counts for each value.\n",
    "    return Counter(counts) #https://stackoverflow.com/a/5829377"
   ]
  },
  {
   "cell_type": "code",
   "execution_count": 20,
   "id": "625f76dc",
   "metadata": {},
   "outputs": [
    {
     "data": {
      "text/plain": [
       "Counter({2: 0.5142857142857142,\n",
       "         3: 0.22857142857142856,\n",
       "         4: 0.014285714285714285,\n",
       "         1: 0.22857142857142856,\n",
       "         0: 0.014285714285714285})"
      ]
     },
     "execution_count": 20,
     "metadata": {},
     "output_type": "execute_result"
    }
   ],
   "source": [
    "# Calculates the proportions of ways of guessing for each number of correct cups.\n",
    "def getProportion(counts):\n",
    "    total = sum(counts.values())\n",
    "    for k,v in counts.items():\n",
    "        counts[k] = v/total\n",
    "    return counts\n",
    "getProportion(experiment(8, 4))"
   ]
  },
  {
   "cell_type": "code",
   "execution_count": 21,
   "id": "67a2d258",
   "metadata": {},
   "outputs": [],
   "source": [
    "# Calculates the proportions of guessing one wrong cup and the correct cup.\n",
    "def getProbabilty(num_of_cups, half_num):\n",
    "    counts = experiment(num_of_cups, half_num)\n",
    "    x = getProportion(counts)\n",
    "    total = x[half_num] + x[half_num - 1]\n",
    "    return total"
   ]
  },
  {
   "cell_type": "code",
   "execution_count": 22,
   "id": "81b73e5f",
   "metadata": {},
   "outputs": [],
   "source": [
    "# Prints number of cups and probability \n",
    "def printProbability(num_of_cups):\n",
    "    half_num = math.floor(num_of_cups/2)\n",
    "    prob = getProbabilty(num_of_cups, half_num) * 100\n",
    "    print(\"Number of cups:\", num_of_cups)\n",
    "    print(\"Probaility of guessing at least:\", half_num-1, \"cups\")\n",
    "    print(\"Probability: \", prob, \"%\", sep=\"\")"
   ]
  },
  {
   "cell_type": "markdown",
   "id": "665df404",
   "metadata": {},
   "source": [
    "If we limit the number of cups in an experiment to even numbers. \n",
    "\n",
    "We ask the lady to guess half correctly but allow her to get one wrong. \n",
    "\n",
    "We can see as we increase the number of cups the probabilty of her guessing correctly decreases. "
   ]
  },
  {
   "cell_type": "code",
   "execution_count": 23,
   "id": "8ae9215c",
   "metadata": {},
   "outputs": [
    {
     "name": "stdout",
     "output_type": "stream",
     "text": [
      "Number of cups: 4\n",
      "Probaility of guessing at least: 1 cups\n",
      "Probability: 83.33333333333333%\n",
      "-------------------\n",
      "Number of cups: 6\n",
      "Probaility of guessing at least: 2 cups\n",
      "Probability: 50.0%\n",
      "-------------------\n",
      "Number of cups: 8\n",
      "Probaility of guessing at least: 3 cups\n",
      "Probability: 24.285714285714285%\n",
      "-------------------\n",
      "Number of cups: 10\n",
      "Probaility of guessing at least: 4 cups\n",
      "Probability: 10.317460317460316%\n",
      "-------------------\n",
      "Number of cups: 12\n",
      "Probaility of guessing at least: 5 cups\n",
      "Probability: 4.004329004329004%\n",
      "-------------------\n",
      "Number of cups: 14\n",
      "Probaility of guessing at least: 6 cups\n",
      "Probability: 1.456876456876457%\n",
      "-------------------\n",
      "Number of cups: 16\n",
      "Probaility of guessing at least: 7 cups\n",
      "Probability: 0.505050505050505%\n",
      "-------------------\n"
     ]
    }
   ],
   "source": [
    "for i in range(4, 18, 2):\n",
    "    printProbability(i)\n",
    "    print(\"-------------------\")"
   ]
  },
  {
   "cell_type": "markdown",
   "id": "592d3174",
   "metadata": {},
   "source": [
    "The probability of guessing at least 7 cups from 16 is 0.5% which would maintain the 1% threshold. "
   ]
  },
  {
   "cell_type": "markdown",
   "id": "be385367",
   "metadata": {},
   "source": [
    "<h3 style=\"color: #001a79;\">Exercise 3</h3>\n",
    "\n",
    "<hr style=\"border-top: 1px solid #001a79;\" />\n",
    "\n",
    "Use <a href=\"https://docs.scipy.org/doc/scipy/reference/generated/scipy.stats.fisher_exact.html\" style=\"color: #ff791e\">scipy's version of Fisher's exact test</a> to simulate the Lady Tasting Tea problem.\n",
    "\n",
    "Our hypothesis is that the lady cannot tell the difference between a cup of tea that had milk in it first and one that had the tea in it first. \n",
    "\n",
    "**Null Hypothesis**: the lady can not tell if the cup had milk in it first or last.\n",
    "\n",
    "**Alternative Hypothesis**: the lady can tell. \n",
    "\n",
    "We will reject the null hypothesis if the p-value < 0.05. \n",
    "\n",
    "In our experiment the lady picked all 8 cups of tea correctly. This can be seen in the contigency table below. "
   ]
  },
  {
   "attachments": {
    "LadysTeaTest.PNG": {
     "image/png": "[encoded data removed]"
    }
   },
   "cell_type": "markdown",
   "id": "2cc585df",
   "metadata": {},
   "source": [
    "![LadysTeaTest.PNG](attachment:LadysTeaTest.PNG)\n",
    "Source: <a href=\"https://www.cs.utah.edu/~jeffp/teaching/cs3130/lectures/L15-HypothesisTests1.pdf\" target=\"_blank\">The University of Utah Notes: Hypothesis Testing, Fisher’s Exact Test</a>"
   ]
  },
  {
   "cell_type": "markdown",
   "id": "8e915910",
   "metadata": {},
   "source": [
    "Under the null hypothesis (that she is guessing) we can calculate the probabilities that she guesses milk first correctly: \n",
    "\n",
    "- No cups correctly p(0)\n",
    "- 1 cup correctly p(1)\n",
    "- 2 cups correctly p(2)\n",
    "- 3 cups corrently p(3)\n",
    "- 4 cups correctly p(4)\n",
    "\n",
    "The probability of each possibility is given by the hypergeometric distribution. These can be computed as: "
   ]
  },
  {
   "cell_type": "code",
   "execution_count": 15,
   "id": "1b18cfac",
   "metadata": {},
   "outputs": [],
   "source": [
    "table = np.array([[4, 0], [0, 4]])\n",
    "M = table.sum()\n",
    "n = table[0].sum()\n",
    "N = table[:, 0].sum()\n",
    "start, end = hypergeom.support(M, n, N)\n",
    "probs = hypergeom.pmf(np.arange(start, end+1), M, n, N)"
   ]
  },
  {
   "cell_type": "code",
   "execution_count": 16,
   "id": "67db8ac8",
   "metadata": {},
   "outputs": [
    {
     "name": "stdout",
     "output_type": "stream",
     "text": [
      "p(0) = 0.014\n",
      "p(1) = 0.229\n",
      "p(2) = 0.514\n",
      "p(3) = 0.229\n",
      "p(4) = 0.014\n"
     ]
    }
   ],
   "source": [
    "for i in range(len(probs)):\n",
    "    print(f\"p({i}) = {round(probs[i],3)}\")"
   ]
  },
  {
   "cell_type": "markdown",
   "id": "c7434f7e",
   "metadata": {},
   "source": [
    "Using scipy's version of Fisher's exact test we can calculate the p-value. "
   ]
  },
  {
   "cell_type": "code",
   "execution_count": 18,
   "id": "fe099699",
   "metadata": {},
   "outputs": [],
   "source": [
    "# We use alternative='greater' because it is a one sided test. \n",
    "oddsratio, pvalue = fisher_exact([[4, 0], [0, 4]], alternative='greater')"
   ]
  },
  {
   "cell_type": "code",
   "execution_count": 19,
   "id": "60458872",
   "metadata": {},
   "outputs": [
    {
     "data": {
      "text/plain": [
       "0.014285714285714268"
      ]
     },
     "execution_count": 19,
     "metadata": {},
     "output_type": "execute_result"
    }
   ],
   "source": [
    "pvalue"
   ]
  },
  {
   "cell_type": "code",
   "execution_count": 20,
   "id": "e6a8bf38",
   "metadata": {},
   "outputs": [
    {
     "data": {
      "text/plain": [
       "0.014285714285714285"
      ]
     },
     "execution_count": 20,
     "metadata": {},
     "output_type": "execute_result"
    }
   ],
   "source": [
    "1/70"
   ]
  },
  {
   "cell_type": "markdown",
   "id": "29451165",
   "metadata": {},
   "source": [
    "<h3 style=\"color: #001a79;\">Exercise 4</h3>\n",
    "\n",
    "<hr style=\"border-top: 1px solid #001a79;\" />\n",
    "\n",
    "Take the code from the <a href=\"https://docs.scipy.org/doc/scipy/reference/generated/scipy.stats.ttest_ind.html\" style=\"color: #ff791e\">Examples section of the scipy stats documentation for independent samples t-tests</a>, add it to your own notebook and add explain how it works using MarkDown cells and code comments. Improve it in any way you think it could be improved."
   ]
  },
  {
   "cell_type": "code",
   "execution_count": 2,
   "id": "cefdaef7",
   "metadata": {},
   "outputs": [
    {
     "ename": "NameError",
     "evalue": "name 'np' is not defined",
     "output_type": "error",
     "traceback": [
      "\u001b[1;31m---------------------------------------------------------------------------\u001b[0m",
      "\u001b[1;31mNameError\u001b[0m                                 Traceback (most recent call last)",
      "Input \u001b[1;32mIn [2]\u001b[0m, in \u001b[0;36m<cell line: 2>\u001b[1;34m()\u001b[0m\n\u001b[0;32m      1\u001b[0m \u001b[38;5;66;03m# Sets rng to a random generator \u001b[39;00m\n\u001b[1;32m----> 2\u001b[0m rng \u001b[38;5;241m=\u001b[39m \u001b[43mnp\u001b[49m\u001b[38;5;241m.\u001b[39mrandom\u001b[38;5;241m.\u001b[39mdefault_rng()\n",
      "\u001b[1;31mNameError\u001b[0m: name 'np' is not defined"
     ]
    }
   ],
   "source": [
    "# Sets rng to a random generator \n",
    "rng = np.random.default_rng()"
   ]
  },
  {
   "cell_type": "markdown",
   "id": "bcb13e30",
   "metadata": {},
   "source": [
    "***rng*** is can be used to generate random numbers "
   ]
  },
  {
   "cell_type": "code",
   "execution_count": 25,
   "id": "cf69ddb5",
   "metadata": {},
   "outputs": [
    {
     "data": {
      "text/plain": [
       "array([8.17396634, 2.02555862, 1.4892885 , 4.78195714, 4.89292776])"
      ]
     },
     "execution_count": 25,
     "metadata": {},
     "output_type": "execute_result"
    }
   ],
   "source": [
    "# Generate an array of 5 random float numbers between 0-10\n",
    "arr1 = rng.random(5)*10\n",
    "arr1"
   ]
  },
  {
   "cell_type": "code",
   "execution_count": 26,
   "id": "dc07552e",
   "metadata": {},
   "outputs": [
    {
     "data": {
      "text/plain": [
       "array([8, 9, 7, 4, 5], dtype=int64)"
      ]
     },
     "execution_count": 26,
     "metadata": {},
     "output_type": "execute_result"
    }
   ],
   "source": [
    "# Generate an array of 5 random integer numbers between 0-10\n",
    "arr2 = rng.integers(0, 11, 5)\n",
    "arr2"
   ]
  },
  {
   "cell_type": "code",
   "execution_count": 27,
   "id": "11986f77",
   "metadata": {},
   "outputs": [
    {
     "data": {
      "image/png": "[encoded data removed]",
      "text/plain": [
       "<Figure size 640x480 with 1 Axes>"
      ]
     },
     "metadata": {},
     "output_type": "display_data"
    }
   ],
   "source": [
    "\n",
    "mu = 0\n",
    "sigma = 1\n",
    "x = rng.normal(mu, sigma, 10000)\n",
    "plt.hist(x, bins=20)\n",
    "plt.show()"
   ]
  },
  {
   "cell_type": "code",
   "execution_count": 28,
   "id": "a2e12a4c",
   "metadata": {},
   "outputs": [],
   "source": [
    "######################################################################################"
   ]
  },
  {
   "cell_type": "code",
   "execution_count": 3,
   "id": "8f61ef6e",
   "metadata": {},
   "outputs": [
    {
     "ename": "NameError",
     "evalue": "name 'plt' is not defined",
     "output_type": "error",
     "traceback": [
      "\u001b[1;31m---------------------------------------------------------------------------\u001b[0m",
      "\u001b[1;31mNameError\u001b[0m                                 Traceback (most recent call last)",
      "Input \u001b[1;32mIn [3]\u001b[0m, in \u001b[0;36m<cell line: 2>\u001b[1;34m()\u001b[0m\n\u001b[0;32m      1\u001b[0m \u001b[38;5;66;03m# Better sized plots.\u001b[39;00m\n\u001b[1;32m----> 2\u001b[0m \u001b[43mplt\u001b[49m\u001b[38;5;241m.\u001b[39mrcParams[\u001b[38;5;124m'\u001b[39m\u001b[38;5;124mfigure.figsize\u001b[39m\u001b[38;5;124m'\u001b[39m] \u001b[38;5;241m=\u001b[39m (\u001b[38;5;241m12\u001b[39m, \u001b[38;5;241m8\u001b[39m)\n\u001b[0;32m      4\u001b[0m \u001b[38;5;66;03m# Nicer colours and styles for plots.\u001b[39;00m\n\u001b[0;32m      5\u001b[0m plt\u001b[38;5;241m.\u001b[39mstyle\u001b[38;5;241m.\u001b[39muse(\u001b[38;5;124m\"\u001b[39m\u001b[38;5;124mggplot\u001b[39m\u001b[38;5;124m\"\u001b[39m)\n",
      "\u001b[1;31mNameError\u001b[0m: name 'plt' is not defined"
     ]
    }
   ],
   "source": [
    "# Better sized plots.\n",
    "plt.rcParams['figure.figsize'] = (12, 8)\n",
    "\n",
    "# Nicer colours and styles for plots.\n",
    "plt.style.use(\"ggplot\")"
   ]
  },
  {
   "cell_type": "markdown",
   "id": "65beef3f",
   "metadata": {},
   "source": [
    "We will explore the population samples below where:\n",
    "\n",
    "- **m**: mean\n",
    "- **s**: standard deviation\n",
    "- **n**: sample size"
   ]
  },
  {
   "cell_type": "code",
   "execution_count": 61,
   "id": "41cff2ad",
   "metadata": {},
   "outputs": [],
   "source": [
    "pop1 = {\"pop\": \"Population 1\", 'm': 5, 's': 10, 'n': 500, 'color':'g'}\n",
    "pop2 = {\"pop\": \"Population 2\", 'm': 5, 's': 10, 'n': 500, 'color':'b'}\n",
    "pop3 = {\"pop\": \"Population 3\", 'm': 5, 's': 20, 'n': 500, 'color':'r'}\n",
    "pop4 = {\"pop\": \"Population 4\", 'm': 5, 's': 20, 'n': 100, 'color':'m'}\n",
    "pop5 = {\"pop\": \"Population 5\", 'm': 8, 's': 20, 'n': 100, 'color':'y'}"
   ]
  },
  {
   "cell_type": "code",
   "execution_count": 62,
   "id": "e0f5ff16",
   "metadata": {},
   "outputs": [],
   "source": [
    "# Creates an array of 'n' random numbers with mean 'm' and standard deviation 's'\n",
    "def randomVariables(pop):\n",
    "    rvs = stats.norm.rvs(loc=pop['m'], scale=pop['s'], size=pop['n'], random_state=rng)\n",
    "    return rvs"
   ]
  },
  {
   "cell_type": "code",
   "execution_count": 63,
   "id": "f192737d",
   "metadata": {},
   "outputs": [],
   "source": [
    "def plotPop(popA, rvsA, popB, rvsB):\n",
    "    # Create two samples, one from each population.\n",
    "    sampA = rvsA\n",
    "    sampB = rvsB\n",
    "    \n",
    "    samp_all = np.concatenate((sampA, sampB))\n",
    "    min_val = min(samp_all)\n",
    "    max_val = max(samp_all)\n",
    "    \n",
    "    # x values for plotting.\n",
    "    x = np.linspace(min_val, max_val, 1000)\n",
    "\n",
    "    # The probability density functions (PDFs) for the two populations.\n",
    "    pdfA = stats.norm.pdf(x, popA['m'], popA['s'])\n",
    "    pdfB = stats.norm.pdf(x, popB['m'], popB['s'])\n",
    "\n",
    "    # Plot the population PDFs as shaded regions.\n",
    "    plt.fill_between(x, pdfA, color=popA[\"color\"], alpha=0.25, label=popA[\"pop\"])\n",
    "    plt.fill_between(x, pdfB, color=popB[\"color\"], alpha=0.25, label=popB[\"pop\"])\n",
    "\n",
    "    # Plot histograms of the two samples.\n",
    "    plt.hist(sampA, density=True, color=popA[\"color\"], alpha=0.25)\n",
    "    plt.hist(sampB, density=True, color=popB[\"color\"], alpha=0.25)\n",
    "\n",
    "    # Display a legend.\n",
    "    plt.legend()\n",
    "    plt.show()"
   ]
  },
  {
   "cell_type": "markdown",
   "id": "ef73fad4",
   "metadata": {},
   "source": [
    "***1. Test 2 samples with identical means, standard deviations and sample sizes:***"
   ]
  },
  {
   "cell_type": "code",
   "execution_count": 89,
   "id": "2b06be2c",
   "metadata": {},
   "outputs": [
    {
     "name": "stdout",
     "output_type": "stream",
     "text": [
      "Population 1\t mean:5\t standard deviation:10\t sample size:500\n",
      "Population 2\t mean:5\t standard deviation:10\t sample size:500\n"
     ]
    }
   ],
   "source": [
    "print(f'{pop1[\"pop\"]}\\t mean:{pop1[\"m\"]}\\t standard deviation:{pop1[\"s\"]}\\t sample size:{pop1[\"n\"]}')\n",
    "print(f'{pop2[\"pop\"]}\\t mean:{pop2[\"m\"]}\\t standard deviation:{pop2[\"s\"]}\\t sample size:{pop2[\"n\"]}')"
   ]
  },
  {
   "cell_type": "code",
   "execution_count": 90,
   "id": "efed97e1",
   "metadata": {},
   "outputs": [],
   "source": [
    "# Creates two arrays \n",
    "rvs1 = randomVariables(pop1)\n",
    "rvs2 = randomVariables(pop2)"
   ]
  },
  {
   "cell_type": "code",
   "execution_count": 65,
   "id": "ffc7f9c0",
   "metadata": {},
   "outputs": [
    {
     "data": {
      "image/png": "[encoded data removed]",
      "text/plain": [
       "<Figure size 1200x800 with 1 Axes>"
      ]
     },
     "metadata": {},
     "output_type": "display_data"
    }
   ],
   "source": [
    "plotPop(pop1, rvs1, pop2, rvs2)"
   ]
  },
  {
   "cell_type": "code",
   "execution_count": 75,
   "id": "8d6e57de",
   "metadata": {},
   "outputs": [
    {
     "name": "stdout",
     "output_type": "stream",
     "text": [
      "T-Statistic: -0.254\tP-Value: 0.799\n",
      "Where variances are assumed equal\n"
     ]
    }
   ],
   "source": [
    "# Runs scipy stats individual samples t-test where variances are assumed equal\n",
    "t_12, p_12 = stats.ttest_ind(rvs1, rvs2)\n",
    "print(f\"T-Statistic: {t_12:.3f}\\tP-Value: {p_12:.3f}\")\n",
    "print(\"Where variances are assumed equal\")"
   ]
  },
  {
   "cell_type": "code",
   "execution_count": 74,
   "id": "50b9e68d",
   "metadata": {},
   "outputs": [
    {
     "name": "stdout",
     "output_type": "stream",
     "text": [
      "T-Statistic: -0.254\tP-Value: 0.799\n",
      "Where variances are not assumed equal\n"
     ]
    }
   ],
   "source": [
    "# Runs scipy stats individual samples t-test where variances are not assumed equal\n",
    "t_12vf, p_12vf = stats.ttest_ind(rvs1, rvs2, equal_var=False)\n",
    "print(f\"T-Statistic: {t_12vf:.3f}\\tP-Value: {p_12vf:.3f}\")\n",
    "print(\"Where variances are not assumed equal\")"
   ]
  },
  {
   "cell_type": "markdown",
   "id": "3ab2fc2e",
   "metadata": {},
   "source": [
    "***2. Test 2 samples with identical means, different standard deviations and identical sample sizes:***"
   ]
  },
  {
   "cell_type": "code",
   "execution_count": 91,
   "id": "41fb7f7d",
   "metadata": {},
   "outputs": [
    {
     "name": "stdout",
     "output_type": "stream",
     "text": [
      "Population 1\t mean:5\t standard deviation:10\t sample size:500\n",
      "Population 3\t mean:5\t standard deviation:20\t sample size:500\n"
     ]
    }
   ],
   "source": [
    "print(f'{pop1[\"pop\"]}\\t mean:{pop1[\"m\"]}\\t standard deviation:{pop1[\"s\"]}\\t sample size:{pop1[\"n\"]}')\n",
    "print(f'{pop3[\"pop\"]}\\t mean:{pop3[\"m\"]}\\t standard deviation:{pop3[\"s\"]}\\t sample size:{pop3[\"n\"]}')"
   ]
  },
  {
   "cell_type": "code",
   "execution_count": 76,
   "id": "0897c248",
   "metadata": {},
   "outputs": [],
   "source": [
    "# Creates an array of 500 random numbers with mean: 5, standard deviation: 20\n",
    "rvs3 = randomVariables(pop3)"
   ]
  },
  {
   "cell_type": "code",
   "execution_count": 77,
   "id": "8c159b58",
   "metadata": {},
   "outputs": [
    {
     "data": {
      "image/png": "[encoded data removed]",
      "text/plain": [
       "<Figure size 1200x800 with 1 Axes>"
      ]
     },
     "metadata": {},
     "output_type": "display_data"
    }
   ],
   "source": [
    "plotPop(pop1, rvs1, pop3, rvs3)"
   ]
  },
  {
   "cell_type": "code",
   "execution_count": 80,
   "id": "44838430",
   "metadata": {},
   "outputs": [
    {
     "name": "stdout",
     "output_type": "stream",
     "text": [
      "T-Statistic: 0.500\tP-Value: 0.617\n",
      "Where variances are assumed equal\n"
     ]
    }
   ],
   "source": [
    "# Runs scipy stats individual samples t-test where variances are assumed equal\n",
    "t_13, p_13 = stats.ttest_ind(rvs1, rvs3)\n",
    "print(f\"T-Statistic: {t_13:.3f}\\tP-Value: {p_13:.3f}\")\n",
    "print(\"Where variances are assumed equal\")"
   ]
  },
  {
   "cell_type": "code",
   "execution_count": 82,
   "id": "e57f9d94",
   "metadata": {},
   "outputs": [
    {
     "name": "stdout",
     "output_type": "stream",
     "text": [
      "T-Statistic: 0.500\tP-Value: 0.617\n",
      "Where variances are not assumed equal\n"
     ]
    }
   ],
   "source": [
    "# Runs scipy stats individual samples t-test where variances are not assumed equal\n",
    "t_13vf, p_13vf = stats.ttest_ind(rvs1, rvs3, equal_var=False)\n",
    "print(f\"T-Statistic: {t_13vf:.3f}\\tP-Value: {p_13vf:.3f}\")\n",
    "print(\"Where variances are not assumed equal\")"
   ]
  },
  {
   "cell_type": "markdown",
   "id": "bcf634a3",
   "metadata": {},
   "source": [
    "ttest_ind underestimates p for unequal variances:"
   ]
  },
  {
   "cell_type": "markdown",
   "id": "7abb3135",
   "metadata": {},
   "source": [
    "***3. Test 2 samples with identical means, different standard deviations and sample sizes:***"
   ]
  },
  {
   "cell_type": "code",
   "execution_count": 93,
   "id": "4d5b23ef",
   "metadata": {},
   "outputs": [
    {
     "name": "stdout",
     "output_type": "stream",
     "text": [
      "Population 1\t mean:5\t standard deviation:10\t sample size:500\n",
      "Population 4\t mean:5\t standard deviation:20\t sample size:100\n"
     ]
    }
   ],
   "source": [
    "print(f'{pop1[\"pop\"]}\\t mean:{pop1[\"m\"]}\\t standard deviation:{pop1[\"s\"]}\\t sample size:{pop1[\"n\"]}')\n",
    "print(f'{pop4[\"pop\"]}\\t mean:{pop4[\"m\"]}\\t standard deviation:{pop4[\"s\"]}\\t sample size:{pop4[\"n\"]}')"
   ]
  },
  {
   "cell_type": "markdown",
   "id": "cc8cd1a7",
   "metadata": {},
   "source": [
    "When n1 != n2, the equal variance t-statistic is no longer equal to the unequal variance t-statistic:"
   ]
  },
  {
   "cell_type": "code",
   "execution_count": 40,
   "id": "725200d4",
   "metadata": {},
   "outputs": [],
   "source": [
    "# Creates an array of 100 random numbers with mean: 5, standard deviation: 20\n",
    "rvs4 = stats.norm.rvs(loc=5, scale=20, size=100, random_state=rng)"
   ]
  },
  {
   "cell_type": "code",
   "execution_count": 41,
   "id": "fc9987e1",
   "metadata": {},
   "outputs": [
    {
     "data": {
      "text/plain": [
       "Ttest_indResult(statistic=-0.7228647213222061, pvalue=0.4700456143937869)"
      ]
     },
     "execution_count": 41,
     "metadata": {},
     "output_type": "execute_result"
    }
   ],
   "source": [
    "# Runs scipy stats individual samples t-test where variances are assumed equal\n",
    "stats.ttest_ind(rvs1, rvs4)"
   ]
  },
  {
   "cell_type": "code",
   "execution_count": 42,
   "id": "81104b76",
   "metadata": {},
   "outputs": [
    {
     "data": {
      "text/plain": [
       "Ttest_indResult(statistic=-0.4787935851441493, pvalue=0.6330391469691325)"
      ]
     },
     "execution_count": 42,
     "metadata": {},
     "output_type": "execute_result"
    }
   ],
   "source": [
    "# Runs scipy stats individual samples t-test where variances are not assumed equal\n",
    "stats.ttest_ind(rvs1, rvs4, equal_var=False)"
   ]
  },
  {
   "cell_type": "markdown",
   "id": "54a7b7a2",
   "metadata": {},
   "source": [
    "T-test with different means, variance, and n:"
   ]
  },
  {
   "cell_type": "code",
   "execution_count": 43,
   "id": "691c4165",
   "metadata": {},
   "outputs": [],
   "source": [
    "# Creates an array of 100 random numbers with mean: 8, standard deviation: 20\n",
    "rvs5 = stats.norm.rvs(loc=8, scale=20, size=100, random_state=rng)"
   ]
  },
  {
   "cell_type": "code",
   "execution_count": 44,
   "id": "e46c4958",
   "metadata": {},
   "outputs": [
    {
     "data": {
      "text/plain": [
       "Ttest_indResult(statistic=-1.7774407990263337, pvalue=0.0760039069045583)"
      ]
     },
     "execution_count": 44,
     "metadata": {},
     "output_type": "execute_result"
    }
   ],
   "source": [
    "stats.ttest_ind(rvs1, rvs5)"
   ]
  },
  {
   "cell_type": "code",
   "execution_count": 45,
   "id": "3bdfa0a1",
   "metadata": {},
   "outputs": [
    {
     "data": {
      "text/plain": [
       "Ttest_indResult(statistic=-1.0790923092145668, pvalue=0.28298769809752)"
      ]
     },
     "execution_count": 45,
     "metadata": {},
     "output_type": "execute_result"
    }
   ],
   "source": [
    "stats.ttest_ind(rvs1, rvs5, equal_var=False)"
   ]
  },
  {
   "cell_type": "markdown",
   "id": "70c48d6d",
   "metadata": {},
   "source": [
    "When performing a permutation test, more permutations typically yields more accurate results. Use a np.random.Generator to ensure reproducibility:"
   ]
  },
  {
   "cell_type": "code",
   "execution_count": 46,
   "id": "bff2cf69",
   "metadata": {},
   "outputs": [
    {
     "data": {
      "text/plain": [
       "Ttest_indResult(statistic=-1.7774407990263337, pvalue=0.0745)"
      ]
     },
     "execution_count": 46,
     "metadata": {},
     "output_type": "execute_result"
    }
   ],
   "source": [
    "stats.ttest_ind(rvs1, rvs5, permutations=10000, random_state=rng)"
   ]
  },
  {
   "cell_type": "markdown",
   "id": "f8f461a1",
   "metadata": {},
   "source": [
    "Take these two samples, one of which has an extreme tail."
   ]
  },
  {
   "cell_type": "code",
   "execution_count": 47,
   "id": "b11e3151",
   "metadata": {},
   "outputs": [],
   "source": [
    "a = (56, 128.6, 12, 123.8, 64.34, 78, 763.3)\n",
    "b = (1.1, 2.9, 4.2)"
   ]
  },
  {
   "cell_type": "markdown",
   "id": "74563a50",
   "metadata": {},
   "source": [
    "Use the trim keyword to perform a trimmed (Yuen) t-test. For example, using 20% trimming, trim=.2, the test will reduce the impact of one (np.floor(trim*len(a))) element from each tail of sample a. It will have no effect on sample b because np.floor(trim*len(b)) is 0."
   ]
  },
  {
   "cell_type": "code",
   "execution_count": 48,
   "id": "1aa9850b",
   "metadata": {},
   "outputs": [
    {
     "data": {
      "text/plain": [
       "Ttest_indResult(statistic=3.4463884028073513, pvalue=0.01369338726499547)"
      ]
     },
     "execution_count": 48,
     "metadata": {},
     "output_type": "execute_result"
    }
   ],
   "source": [
    "stats.ttest_ind(a, b, trim=.2)"
   ]
  }
 ],
 "metadata": {
  "kernelspec": {
   "display_name": "Python 3 (ipykernel)",
   "language": "python",
   "name": "python3"
  },
  "language_info": {
   "codemirror_mode": {
    "name": "ipython",
    "version": 3
   },
   "file_extension": ".py",
   "mimetype": "text/x-python",
   "name": "python",
   "nbconvert_exporter": "python",
   "pygments_lexer": "ipython3",
   "version": "3.9.13"
  }
 },
 "nbformat": 4,
 "nbformat_minor": 5
}
