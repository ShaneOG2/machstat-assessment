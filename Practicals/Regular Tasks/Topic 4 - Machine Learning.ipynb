{
 "cells": [
  {
   "cell_type": "markdown",
   "id": "2d892d8d",
   "metadata": {},
   "source": [
    "<h1 style=\"color: #001a79;\">Topic 1 - Statistics</h1>"
   ]
  },
  {
   "cell_type": "code",
   "execution_count": 2,
   "id": "a168f961",
   "metadata": {},
   "outputs": [],
   "source": [
    "# Access to the mathematical functions defined by the C standard.\n",
    "import math "
   ]
  },
  {
   "cell_type": "markdown",
   "id": "500b181c",
   "metadata": {},
   "source": [
    "<h3 style=\"color: #001a79;\">Keith Galli - Introduction to Neural Networks in Python (what you need to know) | Tensorflow/Keras</h3>\n",
    "\n",
    "<hr style=\"border-top: 1px solid #001a79;\" />\n",
    "\n",
    "There was no specific exercises in this topic so I decided to watch and go through <a href=\"https://www.youtube.com/watch?v=aBIGJeHRZLQ&ab_channel=KeithGalli\" target=\"_blank\">Keith Galli's YouTube video</a>."
   ]
  },
  {
   "cell_type": "markdown",
   "id": "7a70db95",
   "metadata": {},
   "source": [
    "**Why use Neural Networks?** \n",
    "\n",
    "Say we have the two plots below. We have red and blue points that we're trying to come build a classifier to automatically classify red and blue dotes correctly. The first example we can simply plot a line between them and get a perfect classification. The second example is slightly more complicated, but we can see that we are able to plot a quadratic curved line between the red and blue dots to classify them. "
   ]
  },
  {
   "cell_type": "markdown",
   "id": "9ef3c6db",
   "metadata": {},
   "source": [
    "<table><tr>\n",
    "<td> <img src=\"content/linear.png\" alt=\"Linear\" style=\"width: 350px;\"/> </td>\n",
    "<td> <img src=\"content/quadratic.png\" alt=\"Quadratic\" style=\"width: 350px;\"/> </td>\n",
    "</tr></table>"
   ]
  },
  {
   "cell_type": "markdown",
   "id": "5fbb61a1",
   "metadata": {},
   "source": [
    "https://stackoverflow.com/a/52030880"
   ]
  },
  {
   "cell_type": "markdown",
   "id": "ea5178bc",
   "metadata": {},
   "source": [
    "However in reality our data is often not as nicely separated as this. Take the example below. There is red and blue dots scattered randomly around the plot with no simple separations. Visually we can draw some lines that would separate the red from blue but training a classifier to automatically do this is not so trivial. Neural networks have the ability to find patterns and groups within the data to pull out meaning. \n",
    "\n",
    "<img src=\"content/classification.PNG\" alt=\"Classification\" width=\"350px\"/>"
   ]
  },
  {
   "cell_type": "markdown",
   "id": "94ce4987",
   "metadata": {},
   "source": [
    "Say we are trying to classify the red and blue dots in the last example. Below is what the neural network would look like. \n",
    "1. **Input Layer** - All neural networks will start with an input layer. In this case, the input layer would be two-dimensional - the (x, y) co-ordinate of the point we are trying to classify as red or blue. <br><br>\n",
    "2. **Hidden Layer** - In this case, we have two hidden layers of each of four neurons. \n",
    "- Each of the four neurons in the first hidden layer are communicating with the (x,y) input layer through weights. \n",
    "- The 2 hidden layers neurons are also all connected - 4 neurons connect to 4 neurons.\n",
    "- The second layer of 4 neurons are all conected to the two dimensional output layer (red, blue).\n",
    "\n",
    "3. **Output Layer** - The output layer is the result return from the input that has passed through the hidden layers. In this case, either red or blue. "
   ]
  },
  {
   "cell_type": "markdown",
   "id": "36bb78f4",
   "metadata": {},
   "source": [
    "<img src=\"content/neuralnetwork.PNG\" alt=\"Neural Network\" width=\"350px\"/>"
   ]
  }
 ],
 "metadata": {
  "kernelspec": {
   "display_name": "Python 3 (ipykernel)",
   "language": "python",
   "name": "python3"
  },
  "language_info": {
   "codemirror_mode": {
    "name": "ipython",
    "version": 3
   },
   "file_extension": ".py",
   "mimetype": "text/x-python",
   "name": "python",
   "nbconvert_exporter": "python",
   "pygments_lexer": "ipython3",
   "version": "3.9.13"
  }
 },
 "nbformat": 4,
 "nbformat_minor": 5
}
